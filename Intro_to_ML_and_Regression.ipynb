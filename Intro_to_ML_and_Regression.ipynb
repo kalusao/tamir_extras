{
 "cells": [
  {
   "cell_type": "code",
   "execution_count": 5,
   "metadata": {
    "slideshow": {
     "slide_type": "skip"
    }
   },
   "outputs": [
    {
     "name": "stdout",
     "output_type": "stream",
     "text": [
      "[NbConvertApp] Converting notebook Intro_to_ML_and_Regression.ipynb to slides\n",
      "[NbConvertApp] Writing 685120 bytes to Intro_to_ML_and_Regression.slides.html\n",
      "[NbConvertApp] Redirecting reveal.js requests to https://cdnjs.cloudflare.com/ajax/libs/reveal.js/3.1.0\n",
      "Serving your slides at http://127.0.0.1:8000/Intro_to_ML_and_Regression.slides.html\n",
      "Use Control-C to stop this server\n",
      "WARNING:tornado.access:404 GET /custom.css (127.0.0.1) 0.78ms\n",
      "WARNING:tornado.access:404 GET /custom.css (127.0.0.1) 0.50ms\n",
      "^C\n",
      "\n",
      "Interrupted\n"
     ]
    }
   ],
   "source": [
    "# To run as slideshow:\n",
    "!jupyter nbconvert Intro_to_ML_and_Regression.ipynb --to slides --post serve"
   ]
  },
  {
   "cell_type": "markdown",
   "metadata": {
    "slideshow": {
     "slide_type": "slide"
    }
   },
   "source": [
    "<span style=\"font-size: 4em;\">\n",
    " Intro to Machine Learning</span>"
   ]
  },
  {
   "cell_type": "markdown",
   "metadata": {
    "slideshow": {
     "slide_type": "slide"
    }
   },
   "source": [
    "# Types of machine learning problems"
   ]
  },
  {
   "cell_type": "markdown",
   "metadata": {
    "slideshow": {
     "slide_type": "fragment"
    }
   },
   "source": [
    "**Supervised:** making new predictions based on an existing pattern"
   ]
  },
  {
   "cell_type": "markdown",
   "metadata": {
    "slideshow": {
     "slide_type": "fragment"
    }
   },
   "source": [
    "**Unsupervised:** extracting structures that exisit in the data"
   ]
  },
  {
   "cell_type": "markdown",
   "metadata": {
    "slideshow": {
     "slide_type": "fragment"
    }
   },
   "source": [
    "**Semi-supervised:** extracting structures while making predictions (used when you have few labels)"
   ]
  },
  {
   "cell_type": "code",
   "execution_count": 7,
   "metadata": {
    "collapsed": true,
    "slideshow": {
     "slide_type": "slide"
    }
   },
   "outputs": [],
   "source": [
    "# Plotting Tools:\n",
    "\n",
    "from time import time\n",
    "import numpy as np\n",
    "import matplotlib.pyplot as plt\n",
    "from matplotlib import offsetbox\n",
    "from sklearn import (manifold, datasets, decomposition, ensemble,\n",
    "                     discriminant_analysis, random_projection)\n",
    "%matplotlib inline\n",
    "\n",
    "digits = datasets.load_digits(n_class=10)\n",
    "X = digits.data\n",
    "y = digits.target\n",
    "n_samples, n_features = X.shape\n",
    "n_neighbors = 30\n",
    "\n",
    "#----------------------------------------------------------------------\n",
    "# Scale and visualize the embedding vectors\n",
    "def plot_embedding(X, title=None):\n",
    "    x_min, x_max = np.min(X, 0), np.max(X, 0)\n",
    "    X = (X - x_min) / (x_max - x_min)\n",
    "\n",
    "    plt.figure()\n",
    "    ax = plt.subplot(111)\n",
    "    for i in range(X.shape[0]):\n",
    "        plt.text(X[i, 0], X[i, 1], str(digits.target[i]),\n",
    "                 color=plt.cm.Set1(y[i] / 10.),\n",
    "                 fontdict={'weight': 'bold', 'size': 9})\n",
    "\n",
    "    if hasattr(offsetbox, 'AnnotationBbox'):\n",
    "        # only print thumbnails with matplotlib > 1.0\n",
    "        shown_images = np.array([[1., 1.]])  # just something big\n",
    "        for i in range(digits.data.shape[0]):\n",
    "            dist = np.sum((X[i] - shown_images) ** 2, 1)\n",
    "            if np.min(dist) < 4e-3:\n",
    "                # don't show points that are too close\n",
    "                continue\n",
    "            shown_images = np.r_[shown_images, [X[i]]]\n",
    "            imagebox = offsetbox.AnnotationBbox(\n",
    "                offsetbox.OffsetImage(digits.images[i], cmap=plt.cm.gray_r),\n",
    "                X[i])\n",
    "            ax.add_artist(imagebox)\n",
    "    plt.xticks([]), plt.yticks([])\n",
    "    if title is not None:\n",
    "        plt.title(title)\n",
    "#----------------------------------------------------------------------\n",
    "# Plot images of the digits\n",
    "n_img_per_row = 20\n",
    "img = np.zeros((10 * n_img_per_row, 10 * n_img_per_row))\n",
    "for i in range(n_img_per_row):\n",
    "    ix = 10 * i + 1\n",
    "    for j in range(n_img_per_row):\n",
    "        iy = 10 * j + 1\n",
    "        img[ix:ix + 8, iy:iy + 8] = X[i * n_img_per_row + j].reshape((8, 8))"
   ]
  },
  {
   "cell_type": "markdown",
   "metadata": {
    "slideshow": {
     "slide_type": "slide"
    }
   },
   "source": [
    "# Supervised Learning"
   ]
  },
  {
   "cell_type": "markdown",
   "metadata": {
    "slideshow": {
     "slide_type": "fragment"
    }
   },
   "source": [
    "Based on labeled training data."
   ]
  },
  {
   "cell_type": "markdown",
   "metadata": {
    "slideshow": {
     "slide_type": "fragment"
    }
   },
   "source": [
    "We need to generalize from training data to testing data."
   ]
  },
  {
   "cell_type": "markdown",
   "metadata": {
    "slideshow": {
     "slide_type": "slide"
    }
   },
   "source": [
    "For example, the digits dataset:"
   ]
  },
  {
   "cell_type": "code",
   "execution_count": 20,
   "metadata": {
    "slideshow": {
     "slide_type": "fragment"
    }
   },
   "outputs": [
    {
     "data": {
      "text/plain": [
       "<matplotlib.text.Text at 0x11b89be10>"
      ]
     },
     "execution_count": 20,
     "metadata": {},
     "output_type": "execute_result"
    },
    {
     "data": {
      "image/png": "[encoded data removed]",
      "text/plain": [
       "<matplotlib.figure.Figure at 0x11ba42710>"
      ]
     },
     "metadata": {},
     "output_type": "display_data"
    }
   ],
   "source": [
    "plt.imshow(img, cmap=plt.cm.binary)\n",
    "plt.xticks([])\n",
    "plt.yticks([])\n",
    "plt.title('A selection from the 64-dimensional digits dataset')"
   ]
  },
  {
   "cell_type": "markdown",
   "metadata": {
    "slideshow": {
     "slide_type": "fragment"
    }
   },
   "source": [
    "If we have some labeled digits, we need to make the model label **new** unobserved digits correctly."
   ]
  },
  {
   "cell_type": "markdown",
   "metadata": {
    "slideshow": {
     "slide_type": "slide"
    }
   },
   "source": [
    "# Unsupervised Learning"
   ]
  },
  {
   "cell_type": "markdown",
   "metadata": {
    "slideshow": {
     "slide_type": "fragment"
    }
   },
   "source": [
    "No labeled training data."
   ]
  },
  {
   "cell_type": "markdown",
   "metadata": {
    "slideshow": {
     "slide_type": "fragment"
    }
   },
   "source": [
    "The only thing we can do is finding a way to extract the data's structure."
   ]
  },
  {
   "cell_type": "markdown",
   "metadata": {
    "slideshow": {
     "slide_type": "fragment"
    }
   },
   "source": [
    "For example, cluster digits dataset using t-SNE"
   ]
  },
  {
   "cell_type": "code",
   "execution_count": 21,
   "metadata": {
    "slideshow": {
     "slide_type": "fragment"
    }
   },
   "outputs": [
    {
     "name": "stdout",
     "output_type": "stream",
     "text": [
      "Computing t-SNE embedding\n"
     ]
    },
    {
     "data": {
      "image/png": "[encoded data removed]",
      "text/plain": [
       "<matplotlib.figure.Figure at 0x11ba62150>"
      ]
     },
     "metadata": {},
     "output_type": "display_data"
    }
   ],
   "source": [
    "#----------------------------------------------------------------------\n",
    "# t-SNE embedding of the digits dataset\n",
    "print(\"Computing t-SNE embedding\")\n",
    "tsne = manifold.TSNE(n_components=2, init='pca', random_state=0)\n",
    "t0 = time()\n",
    "X_tsne = tsne.fit_transform(X)\n",
    "\n",
    "plot_embedding(X_tsne,\n",
    "               \"t-SNE embedding of the digits (time %.2fs)\" %\n",
    "               (time() - t0))\n",
    "\n",
    "plt.show()"
   ]
  },
  {
   "cell_type": "markdown",
   "metadata": {
    "slideshow": {
     "slide_type": "slide"
    }
   },
   "source": [
    "# Semi-supervised Learning"
   ]
  },
  {
   "cell_type": "markdown",
   "metadata": {
    "slideshow": {
     "slide_type": "fragment"
    }
   },
   "source": [
    "Have little labeled training data."
   ]
  },
  {
   "cell_type": "markdown",
   "metadata": {
    "slideshow": {
     "slide_type": "fragment"
    }
   },
   "source": [
    "We need to extracting the data's structure while generalizing using the labeled training data."
   ]
  },
  {
   "cell_type": "markdown",
   "metadata": {
    "slideshow": {
     "slide_type": "slide"
    }
   },
   "source": [
    "# Types of data"
   ]
  },
  {
   "cell_type": "markdown",
   "metadata": {
    "slideshow": {
     "slide_type": "fragment"
    }
   },
   "source": [
    "continuous: quantitative"
   ]
  },
  {
   "cell_type": "markdown",
   "metadata": {
    "slideshow": {
     "slide_type": "fragment"
    }
   },
   "source": [
    "e.g.: Boston House Price Dataset, etc."
   ]
  },
  {
   "cell_type": "markdown",
   "metadata": {
    "slideshow": {
     "slide_type": "fragment"
    }
   },
   "source": [
    "categorical: qualitative"
   ]
  },
  {
   "cell_type": "markdown",
   "metadata": {
    "slideshow": {
     "slide_type": "fragment"
    }
   },
   "source": [
    "e.g.: MNIST, SVHN, cifar-10, cifar-100, ImageNet (Most popular in machine learning society)"
   ]
  },
  {
   "cell_type": "markdown",
   "metadata": {
    "slideshow": {
     "slide_type": "slide"
    }
   },
   "source": [
    "# Types of machine learning solutions"
   ]
  },
  {
   "cell_type": "markdown",
   "metadata": {
    "slideshow": {
     "slide_type": "fragment"
    }
   },
   "source": [
    "|            |continuous          |categorical\n",
    "|------------|--------------------|\n",
    "|supervised  |regression          |classification\n",
    "|unsupervised|dimension reduction |clustering"
   ]
  },
  {
   "cell_type": "markdown",
   "metadata": {
    "slideshow": {
     "slide_type": "slide"
    }
   },
   "source": [
    "# Classification Problems"
   ]
  },
  {
   "cell_type": "markdown",
   "metadata": {
    "slideshow": {
     "slide_type": "fragment"
    }
   },
   "source": [
    "Recall: supervised and categorical problems"
   ]
  },
  {
   "cell_type": "markdown",
   "metadata": {
    "slideshow": {
     "slide_type": "fragment"
    }
   },
   "source": [
    "Goal: Predict the label with the observed attributes"
   ]
  },
  {
   "cell_type": "markdown",
   "metadata": {
    "slideshow": {
     "slide_type": "fragment"
    }
   },
   "source": [
    "'Supervised' means we know the labels"
   ]
  },
  {
   "cell_type": "markdown",
   "metadata": {
    "slideshow": {
     "slide_type": "slide"
    }
   },
   "source": [
    "# Steps"
   ]
  },
  {
   "cell_type": "markdown",
   "metadata": {
    "slideshow": {
     "slide_type": "fragment"
    }
   },
   "source": [
    "* Split Dataset\n",
    "    * Training data, Validation data, Test data"
   ]
  },
  {
   "cell_type": "markdown",
   "metadata": {
    "slideshow": {
     "slide_type": "fragment"
    }
   },
   "source": [
    "* Train the model\n",
    "    * Learn the right parameters"
   ]
  },
  {
   "cell_type": "markdown",
   "metadata": {
    "slideshow": {
     "slide_type": "fragment"
    }
   },
   "source": [
    "* Tune the model\n",
    "    * This is what the validation data is for\n",
    "    * used to pick the \"hyper-parameters\"\n",
    "        * (We will see an example of hyper-parameters in the Regression section)"
   ]
  },
  {
   "cell_type": "markdown",
   "metadata": {
    "slideshow": {
     "slide_type": "fragment"
    }
   },
   "source": [
    "* Test Model\n",
    "    * This is done to estimate how the model will behave in the wild."
   ]
  },
  {
   "cell_type": "markdown",
   "metadata": {
    "slideshow": {
     "slide_type": "fragment"
    }
   },
   "source": [
    "* Make Predictions\n",
    "    * Use your model to label new data unknown data \"in production\""
   ]
  },
  {
   "cell_type": "markdown",
   "metadata": {
    "slideshow": {
     "slide_type": "slide"
    }
   },
   "source": [
    "## Example: Softmax Regression on MNIST"
   ]
  },
  {
   "cell_type": "code",
   "execution_count": 8,
   "metadata": {
    "scrolled": true,
    "slideshow": {
     "slide_type": "fragment"
    }
   },
   "outputs": [
    {
     "name": "stdout",
     "output_type": "stream",
     "text": [
      "Extracting MNIST_data/train-images-idx3-ubyte.gz\n",
      "Extracting MNIST_data/train-labels-idx1-ubyte.gz\n",
      "Extracting MNIST_data/t10k-images-idx3-ubyte.gz\n",
      "Extracting MNIST_data/t10k-labels-idx1-ubyte.gz\n"
     ]
    }
   ],
   "source": [
    "from tensorflow.contrib.learn.python.learn.datasets.mnist import read_data_sets\n",
    "mnist = read_data_sets(\"MNIST_data/\", one_hot=True)"
   ]
  },
  {
   "cell_type": "markdown",
   "metadata": {
    "slideshow": {
     "slide_type": "fragment"
    }
   },
   "source": [
    "* Notice that it already has training set and testing set.\n",
    "* The validation data is taken out of the training set."
   ]
  },
  {
   "cell_type": "markdown",
   "metadata": {
    "slideshow": {
     "slide_type": "slide"
    }
   },
   "source": [
    "## Samples from MNIST"
   ]
  },
  {
   "cell_type": "code",
   "execution_count": 9,
   "metadata": {
    "slideshow": {
     "slide_type": "fragment"
    }
   },
   "outputs": [
    {
     "data": {
      "text/plain": [
       "([], <a list of 0 Text yticklabel objects>)"
      ]
     },
     "execution_count": 9,
     "metadata": {},
     "output_type": "execute_result"
    },
    {
     "data": {
      "image/png": "[encoded data removed]",
      "text/plain": [
       "<matplotlib.figure.Figure at 0x123b65438>"
      ]
     },
     "metadata": {},
     "output_type": "display_data"
    }
   ],
   "source": [
    "x, _= mnist.test.next_batch(100)  \n",
    "x = x.reshape([-1, 28, 28])  \n",
    "image = np.zeros((280, 280))\n",
    "for i in range(10):\n",
    "    for j in range(10):\n",
    "        image[28 * i: 28 * (i+1),28 * j: 28 * (j+1)] = x[10 * i + j]\n",
    "plt.imshow(image, cmap=plt.cm.gray)  \n",
    "plt.xticks([])\n",
    "plt.yticks([])"
   ]
  },
  {
   "cell_type": "code",
   "execution_count": 40,
   "metadata": {
    "collapsed": true,
    "slideshow": {
     "slide_type": "slide"
    }
   },
   "outputs": [],
   "source": [
    "import tensorflow as tf\n",
    "# Build the model\n",
    "x = tf.placeholder(tf.float32, [None, 784])\n",
    "W = tf.Variable(tf.zeros([784, 10]))\n",
    "b = tf.Variable(tf.zeros([10]))\n",
    "y = tf.matmul(x, W) + b\n",
    "\n",
    "# Define loss and optimizer\n",
    "y_ = tf.placeholder(tf.float32, [None, 10])\n",
    "\n",
    "cross_entropy = tf.reduce_mean(tf.nn.softmax_cross_entropy_with_logits(labels=y_, logits=y))\n",
    "regularizer = tf.reduce_mean(tf.square(W)) # L2 regularizer\n",
    "loss = regularizer + 1.0 * cross_entropy\n",
    "train_step = tf.train.GradientDescentOptimizer(0.5).minimize(loss)\n",
    "\n",
    "sess = tf.InteractiveSession()\n",
    "tf.global_variables_initializer().run()\n",
    "\n",
    "# Define accuracy\n",
    "correct_prediction = tf.equal(tf.argmax(y, 1), tf.argmax(y_, 1))\n",
    "accuracy = tf.reduce_mean(tf.cast(correct_prediction, tf.float32))"
   ]
  },
  {
   "cell_type": "code",
   "execution_count": 43,
   "metadata": {
    "slideshow": {
     "slide_type": "slide"
    }
   },
   "outputs": [
    {
     "name": "stdout",
     "output_type": "stream",
     "text": [
      "Iter 0 Training Accuracy 0.9200 Validation Accuracy 0.9198\n",
      "Iter 100 Training Accuracy 0.9400 Validation Accuracy 0.9226\n",
      "Iter 200 Training Accuracy 0.9200 Validation Accuracy 0.9188\n",
      "Iter 300 Training Accuracy 0.9300 Validation Accuracy 0.9218\n",
      "Iter 400 Training Accuracy 0.9100 Validation Accuracy 0.9210\n",
      "Iter 500 Training Accuracy 0.9100 Validation Accuracy 0.9236\n",
      "Iter 600 Training Accuracy 0.9500 Validation Accuracy 0.9190\n",
      "Iter 700 Training Accuracy 0.9100 Validation Accuracy 0.9196\n",
      "Iter 800 Training Accuracy 0.9500 Validation Accuracy 0.9238\n",
      "Iter 900 Training Accuracy 0.9000 Validation Accuracy 0.9244\n"
     ]
    }
   ],
   "source": [
    "# Train the model\n",
    "for i in range(1000):\n",
    "    batch_xs, batch_ys = mnist.train.next_batch(100)\n",
    "    _, accu = sess.run([train_step, accuracy], feed_dict={x: batch_xs, y_: batch_ys})\n",
    "    if i%100 == 0:\n",
    "        print('Iter {} Training Accuracy {:.4f} Validation Accuracy {:.4f}'.format(i, accu, sess.run(accuracy, feed_dict={x: mnist.validation.images, y_:mnist.validation.labels})))"
   ]
  },
  {
   "cell_type": "code",
   "execution_count": 44,
   "metadata": {
    "slideshow": {
     "slide_type": "slide"
    }
   },
   "outputs": [
    {
     "name": "stdout",
     "output_type": "stream",
     "text": [
      "Test Accuracy 0.914399981499\n"
     ]
    }
   ],
   "source": [
    "# Test the model\n",
    "print('Test Accuracy {}'.format(sess.run(accuracy, feed_dict={x: mnist.test.images, y_:mnist.test.labels})))"
   ]
  },
  {
   "cell_type": "markdown",
   "metadata": {
    "slideshow": {
     "slide_type": "slide"
    }
   },
   "source": [
    "# Building Effective Classifiers"
   ]
  },
  {
   "cell_type": "markdown",
   "metadata": {
    "slideshow": {
     "slide_type": "fragment"
    }
   },
   "source": [
    "## What types of prediction error will we run into?"
   ]
  },
  {
   "cell_type": "markdown",
   "metadata": {
    "slideshow": {
     "slide_type": "fragment"
    }
   },
   "source": [
    "* **Training Error**: The prediction error of training dataset."
   ]
  },
  {
   "cell_type": "markdown",
   "metadata": {
    "slideshow": {
     "slide_type": "fragment"
    }
   },
   "source": [
    "* **Generalization Error**: The prediction error of testing dataset."
   ]
  },
  {
   "cell_type": "markdown",
   "metadata": {
    "slideshow": {
     "slide_type": "fragment"
    }
   },
   "source": [
    "* **OOS error**: The true prediction error."
   ]
  },
  {
   "cell_type": "markdown",
   "metadata": {
    "slideshow": {
     "slide_type": "slide"
    }
   },
   "source": [
    "# Why should we use training & test sets?"
   ]
  },
  {
   "cell_type": "markdown",
   "metadata": {
    "slideshow": {
     "slide_type": "fragment"
    }
   },
   "source": [
    "We can make the model arbitrarily complex (effectively “memorizing” the entire training set)."
   ]
  },
  {
   "cell_type": "markdown",
   "metadata": {
    "slideshow": {
     "slide_type": "fragment"
    }
   },
   "source": [
    "This is called \"overfitting\" or adding \"variance\" to your data."
   ]
  },
  {
   "cell_type": "markdown",
   "metadata": {
    "slideshow": {
     "slide_type": "fragment"
    }
   },
   "source": [
    "**Conclusion** Training error is not a good estimate of OOS accuracy."
   ]
  },
  {
   "cell_type": "markdown",
   "metadata": {
    "slideshow": {
     "slide_type": "slide"
    }
   },
   "source": [
    "# Binary classification example:"
   ]
  },
  {
   "cell_type": "code",
   "execution_count": 120,
   "metadata": {
    "slideshow": {
     "slide_type": "fragment"
    }
   },
   "outputs": [
    {
     "data": {
      "image/png": "[encoded data removed]",
      "text/plain": [
       "<matplotlib.figure.Figure at 0x116131910>"
      ]
     },
     "metadata": {},
     "output_type": "display_data"
    }
   ],
   "source": [
    "from sklearn.datasets import make_moons \n",
    "from sklearn.cross_validation import train_test_split\n",
    "X, y = make_moons(n_samples=500, random_state=1, noise=0.3)\n",
    "plt.scatter(X[y == 1, 0], X[y == 1, 1], color='#EE3D34', marker='x') \n",
    "plt.scatter(X[y == 0, 0], X[y == 0, 1], color='#4458A7', marker='o')"
   ]
  },
  {
   "cell_type": "code",
   "execution_count": 121,
   "metadata": {
    "collapsed": true,
    "slideshow": {
     "slide_type": "slide"
    }
   },
   "outputs": [],
   "source": [
    "from matplotlib.colors import ListedColormap\n",
    "def detect_plot_dimension(X, h=0.02, b=0.05):\n",
    "    x_min, x_max = X[:, 0].min() - b, X[:, 0].max() + b\n",
    "    y_min, y_max = X[:, 1].min() - b, X[:, 1].max() + b\n",
    "    xx, yy = np.meshgrid(np.arange(x_min, x_max, h), np.arange(y_min, y_max, h))\n",
    "    dimension = xx, yy\n",
    "    return dimension\n",
    "\n",
    "def detect_decision_boundary(dimension, model):\n",
    "    xx, yy = dimension # unpack the dimensions\n",
    "    boundary = model.predict(np.c_[xx.ravel(), yy.ravel()])\n",
    "    boundary = boundary.reshape(xx.shape) # Put the result into a color plot\n",
    "    return boundary\n",
    "\n",
    "def plot_decision_boundary(panel, dimension, boundary, colors=['#DADDED', '#FBD8D8']):\n",
    "    xx, yy = dimension # unpack the dimensions\n",
    "    panel.contourf(xx, yy, boundary, cmap=ListedColormap(colors), alpha=1)\n",
    "    panel.contour(xx, yy, boundary, colors=\"g\", alpha=1, linewidths=0.5) # the decision boundary in green\n",
    "\n",
    "def plot_dataset(panel, X, y, colors=[\"#EE3D34\", \"#4458A7\"], markers=[\"x\", \"o\"]):\n",
    "    panel.scatter(X[y == 1, 0], X[y == 1, 1], color=colors[0], marker=markers[0])\n",
    "    panel.scatter(X[y == 0, 0], X[y == 0, 1], color=colors[1], marker=markers[1])\n",
    "\n",
    "def calculate_prediction_error(model, X, y):\n",
    "    yPred = model.predict(X)\n",
    "    score = 1 - round(metrics.accuracy_score(y, yPred), 2)\n",
    "    return score\n",
    "\n",
    "def plot_prediction_error(panel, dimension, score, b=.3):\n",
    "    xx, yy = dimension # unpack the dimensions\n",
    "    panel.text(xx.max() - b, yy.min() + b, ('%.2f' % score).lstrip('0'), size=15, horizontalalignment='right')\n",
    "\n",
    "def explore_fitting_boundaries(model, n_neighbors, datasets, width):\n",
    "    # determine the height of the plot given the aspect ration of each panel should be equal\n",
    "    height = float(width)/len(n_neighbors) * len(datasets.keys())\n",
    "    nrows = len(datasets.keys())\n",
    "    ncols = len(n_neighbors)\n",
    "    \n",
    "    # set up the plot\n",
    "    figure, axes = plt.subplots(\n",
    "    nrows,\n",
    "    ncols,\n",
    "    figsize=(width, height),\n",
    "    sharex=True,\n",
    "    sharey=True\n",
    "    )\n",
    "    \n",
    "    dimension = detect_plot_dimension(X, h=0.02) # the dimension each subplot based on the data\n",
    "\n",
    "    # Plotting the dataset and decision boundaries\n",
    "\n",
    "    i = 0\n",
    "    for n in n_neighbors:\n",
    "        model.n_neighbors = n\n",
    "        model.fit(datasets[\"Training Set\"][0], datasets[\"Training Set\"][1])\n",
    "        boundary = detect_decision_boundary(dimension, model)\n",
    "        j = 0\n",
    "        for d in datasets.keys():\n",
    "            try:\n",
    "                panel = axes[j, i]\n",
    "            except (TypeError, IndexError):\n",
    "                if (nrows * ncols) == 1:\n",
    "                    panel = axes\n",
    "                elif nrows == 1: # if you only have one dataset\n",
    "                    panel = axes[i]\n",
    "                elif ncols == 1: # if you only try one number of neighbors\n",
    "                    panel = axes[j]\n",
    "            plot_decision_boundary(panel, dimension, boundary) # plot the decision boundary\n",
    "            plot_dataset(panel, X=datasets[d][0], y=datasets[d][1]) # plot the observations\n",
    "            score = calculate_prediction_error(model, X=datasets[d][0], y=datasets[d][1])\n",
    "            plot_prediction_error(panel, dimension, score, b=0.2) # plot the score\n",
    "\n",
    "            # make compacted layout\n",
    "\n",
    "            panel.set_frame_on(False)\n",
    "            panel.set_xticks([])\n",
    "            panel.set_yticks([])\n",
    "\n",
    "            # format the axis labels\n",
    "\n",
    "            if i == 0:\n",
    "                panel.set_ylabel(d)\n",
    "            if j == 0:\n",
    "                panel.set_title('k={}'.format(n))\n",
    "                j += 1\n",
    "        i += 1\n",
    "    plt.subplots_adjust(hspace=0, wspace=0) # make compacted layout"
   ]
  },
  {
   "cell_type": "markdown",
   "metadata": {
    "slideshow": {
     "slide_type": "slide"
    }
   },
   "source": [
    "# Solving with KNN to solve this problem:"
   ]
  },
  {
   "cell_type": "code",
   "execution_count": 135,
   "metadata": {
    "slideshow": {
     "slide_type": "fragment"
    }
   },
   "outputs": [
    {
     "data": {
      "image/png": "[encoded data removed]",
      "text/plain": [
       "<matplotlib.figure.Figure at 0x1345d7190>"
      ]
     },
     "metadata": {},
     "output_type": "display_data"
    }
   ],
   "source": [
    "XTrain, XTest, yTrain, yTest = train_test_split(X, y, random_state=0, test_size=0.5)\n",
    "model = KNeighborsClassifier()\n",
    "n_neighbors = [50,25,10,1]\n",
    "datasets = {\n",
    "\"Training Set\": [XTrain, yTrain],\n",
    "\"Test Set\": [XTest, yTest]\n",
    "}\n",
    "width = 10\n",
    "\n",
    "explore_fitting_boundaries(model=model, n_neighbors=n_neighbors, datasets=datasets, width=width)"
   ]
  },
  {
   "cell_type": "markdown",
   "metadata": {
    "slideshow": {
     "slide_type": "fragment"
    }
   },
   "source": [
    "The digits in the bottom right corner is the error of the boundary."
   ]
  },
  {
   "cell_type": "markdown",
   "metadata": {
    "slideshow": {
     "slide_type": "fragment"
    }
   },
   "source": [
    "Generally, a smaller k can cause the overfitting."
   ]
  },
  {
   "cell_type": "markdown",
   "metadata": {
    "slideshow": {
     "slide_type": "slide"
    }
   },
   "source": [
    "# Generalization Error"
   ]
  },
  {
   "cell_type": "markdown",
   "metadata": {
    "slideshow": {
     "slide_type": "fragment"
    }
   },
   "source": [
    "Things go wrong when we compare on a different train/test split. "
   ]
  },
  {
   "cell_type": "markdown",
   "metadata": {
    "slideshow": {
     "slide_type": "fragment"
    }
   },
   "source": [
    "The error on the test data will not be the same. Because it was too tied to the train sample."
   ]
  },
  {
   "cell_type": "code",
   "execution_count": 136,
   "metadata": {
    "slideshow": {
     "slide_type": "fragment"
    }
   },
   "outputs": [
    {
     "data": {
      "image/png": "[encoded data removed]",
      "text/plain": [
       "<matplotlib.figure.Figure at 0x14efcef50>"
      ]
     },
     "metadata": {},
     "output_type": "display_data"
    }
   ],
   "source": [
    "XTrain, XTest, yTrain, yTest = train_test_split(X, y, random_state=1, test_size=0.2)\n",
    "model = KNeighborsClassifier()\n",
    "n_neighbors = [50, 25, 10, 1]\n",
    "datasets = {\n",
    "\"Training Set\": [XTrain, yTrain],\n",
    "\"Test Set\": [XTest, yTest]\n",
    "}\n",
    "width = 10\n",
    "\n",
    "explore_fitting_boundaries(model=model, n_neighbors=n_neighbors, datasets=datasets, width=width)"
   ]
  },
  {
   "cell_type": "markdown",
   "metadata": {
    "slideshow": {
     "slide_type": "fragment"
    }
   },
   "source": [
    "Test set error is a better estimate of future performance than training error."
   ]
  },
  {
   "cell_type": "markdown",
   "metadata": {
    "slideshow": {
     "slide_type": "slide"
    }
   },
   "source": [
    "<span style=\"font-size: 4em;\">\n",
    "Linear Regression </span> "
   ]
  },
  {
   "cell_type": "markdown",
   "metadata": {
    "slideshow": {
     "slide_type": "slide"
    }
   },
   "source": [
    "## Intro to regression\n",
    "We use regression methods to solve **supervised** problems where we are predicting a **continuous** variable. \n",
    "Regression model: a functional relationship between input and the \"target\" variable(s)"
   ]
  },
  {
   "cell_type": "markdown",
   "metadata": {
    "slideshow": {
     "slide_type": "fragment"
    }
   },
   "source": [
    "The simple linear regression model captures a linear relationship between a single input variable x and a response variable y:\n",
    "\n",
    "$y=\\beta_0 + \\beta_1 x + \\epsilon$"
   ]
  },
  {
   "cell_type": "markdown",
   "metadata": {
    "slideshow": {
     "slide_type": "fragment"
    }
   },
   "source": [
    "$y$ = response variable (the one we want to predict)\n",
    "$x$ = input variable (the one we use to train the model)\n",
    "\n",
    "$\\alpha$ = intercept (where the line crosses the y-axis)\n",
    "$\\beta$ = regression coefficient (the model “parameter”)\n",
    "$\\epsilon$ = residual (the prediction error)"
   ]
  },
  {
   "cell_type": "markdown",
   "metadata": {
    "slideshow": {
     "slide_type": "slide"
    }
   },
   "source": [
    "## Multiple Linear Regression\n",
    "$y = \\beta_0 + \\beta_1 x_1 + \\beta_2 x_2 + ... + \\beta_n x_n + \\epsilon$ \n"
   ]
  },
  {
   "cell_type": "markdown",
   "metadata": {
    "slideshow": {
     "slide_type": "fragment"
    }
   },
   "source": [
    "## Fit a regression model to a dataset\n",
    "* In Ordinary least squares we are minimizing the sum of the squared residuals. \n",
    "    * (OLS short for ordinary least squares)"
   ]
  },
  {
   "cell_type": "code",
   "execution_count": 6,
   "metadata": {
    "slideshow": {
     "slide_type": "fragment"
    }
   },
   "outputs": [
    {
     "name": "stdout",
     "output_type": "stream",
     "text": [
      "Coefficients: [ 938.23786125]\n",
      "the mean sqare error:2548.07\n"
     ]
    },
    {
     "data": {
      "image/png": "[encoded data removed]",
      "text/plain": [
       "<matplotlib.figure.Figure at 0x1163ade80>"
      ]
     },
     "metadata": {},
     "output_type": "display_data"
    }
   ],
   "source": [
    "import matplotlib.pyplot as plt\n",
    "import numpy as np\n",
    "from sklearn import datasets,linear_model\n",
    "import time\n",
    "\n",
    "diabetes = datasets.load_diabetes()\n",
    "\n",
    "# Only use one feature to show the result\n",
    "diabetes_X=diabetes.data[:,np.newaxis,2]\n",
    " \n",
    "# train-test split\n",
    "diabetes_X_train=diabetes_X[:-20]\n",
    "diabetes_X_test=diabetes_X[-20:]\n",
    " \n",
    "diabetes_y_train = diabetes.target[:-20]\n",
    "diabetes_y_test = diabetes.target[-20:]\n",
    " \n",
    "regr = linear_model.LinearRegression()\n",
    "regr.fit(diabetes_X_train,diabetes_y_train)\n",
    "\n",
    "print('Coefficients:',regr.coef_)\n",
    "\n",
    "print('the mean sqare error:%.2f' %np.mean((regr.predict(diabetes_X_test)-diabetes_y_test)**2))\n",
    "\n",
    "plt.scatter(diabetes_X_test,diabetes_y_test,color='black')\n",
    "plt.plot(diabetes_X_test,regr.predict(diabetes_X_test),color='blue',linewidth=3)\n",
    "plt.xticks()\n",
    "plt.yticks()\n",
    "plt.show()"
   ]
  },
  {
   "cell_type": "code",
   "execution_count": 5,
   "metadata": {
    "slideshow": {
     "slide_type": "slide"
    }
   },
   "outputs": [
    {
     "name": "stdout",
     "output_type": "stream",
     "text": [
      "Coefficients: [  3.03499549e-01  -2.37639315e+02   5.10530605e+02   3.27736980e+02\n",
      "  -8.14131709e+02   4.92814588e+02   1.02848452e+02   1.84606489e+02\n",
      "   7.43519617e+02   7.60951722e+01]\n",
      "the mean sqare error:2004.57\n",
      "Variance score:0.59\n"
     ]
    }
   ],
   "source": [
    "diabetes = datasets.load_diabetes()\n",
    "\n",
    " \n",
    "diabetes_X_train=diabetes.data[:-20]\n",
    "diabetes_X_test=diabetes.data[-20:]\n",
    " \n",
    "diabetes_y_train = diabetes.target[:-20]\n",
    "diabetes_y_test = diabetes.target[-20:]\n",
    " \n",
    "regr = linear_model.LinearRegression()\n",
    "regr.fit(diabetes_X_train,diabetes_y_train)\n",
    "\n",
    "print('Coefficients:',regr.coef_)\n",
    "\n",
    "print('the mean sqare error:%.2f' %np.mean((regr.predict(diabetes_X_test)-diabetes_y_test)**2))\n",
    "\n",
    "print('Variance score:%.2f' %regr.score(diabetes_X_test,diabetes_y_test))"
   ]
  },
  {
   "cell_type": "code",
   "execution_count": 3,
   "metadata": {
    "slideshow": {
     "slide_type": "fragment"
    }
   },
   "outputs": [
    {
     "name": "stdout",
     "output_type": "stream",
     "text": [
      "[[ 1.          0.99876095]\n",
      " [ 0.99876095  1.        ]]\n"
     ]
    }
   ],
   "source": [
    "import numpy as np\n",
    "c=np.arange(1,10,0.1)\n",
    "print(np.corrcoef(c**9, c**10))"
   ]
  },
  {
   "cell_type": "markdown",
   "metadata": {
    "slideshow": {
     "slide_type": "slide"
    }
   },
   "source": [
    "# Polynomial Regression"
   ]
  },
  {
   "cell_type": "markdown",
   "metadata": {
    "slideshow": {
     "slide_type": "fragment"
    }
   },
   "source": [
    "For 1 input feature $x$\n",
    "\n",
    "$y = \\beta_0 + \\beta_1 x + \\beta_2 x^2 + ... + \\beta_n x^n + \\epsilon$\n",
    "\n",
    "For 2 input features $x_1$ and $x_2$\n",
    "\n",
    "$y = \\beta_0 + \\beta_{1,0} x_1 + \\beta_{0,1}x_2 + \\beta_{1,1} x_1x_2 + \\beta_{2,0} x_1^2+ \\beta_{0,2} x_2^2 + ... + \\beta_{n,m} x_1^nx_1^m + \\epsilon$\n",
    "\n",
    "\n",
    "\n",
    "\n",
    "* Can be considered as a special case of multiple linear regression.\n",
    "\n",
    "* However, this may lead to multicollinearity, \n",
    "    * which means the predictor variables are highly correlated with each other."
   ]
  },
  {
   "cell_type": "markdown",
   "metadata": {
    "slideshow": {
     "slide_type": "fragment"
    }
   },
   "source": [
    "Multicollinearity causes the linear regression model to break down, because it can’t tell the predictor variables apart.\n",
    "\n",
    "We can replace the correlated predictors with uncorrelated predictors using basis functions.\n",
    "\n",
    "$y = \\beta_0 + \\beta_1 f_1(x) + \\beta_2 f_2(x^2) + ... + \\beta_n f_n(x^n) + \\epsilon$"
   ]
  },
  {
   "cell_type": "markdown",
   "metadata": {
    "slideshow": {
     "slide_type": "slide"
    }
   },
   "source": [
    "# Regularization\n",
    "\n",
    "* Recall when we overfit the data in our KNN example\n",
    "    * (AKA we had \"too much variance\" in our model)"
   ]
  },
  {
   "cell_type": "markdown",
   "metadata": {
    "slideshow": {
     "slide_type": "fragment"
    }
   },
   "source": [
    "An overfit model matches the noise in the dataset instead of the signal.\n",
    "\n",
    "This happens when our model becomes too complex for the data to support."
   ]
  },
  {
   "cell_type": "markdown",
   "metadata": {
    "slideshow": {
     "slide_type": "slide"
    }
   },
   "source": [
    "## How to define the complexity of a regression model?"
   ]
  },
  {
   "cell_type": "markdown",
   "metadata": {
    "slideshow": {
     "slide_type": "fragment"
    }
   },
   "source": [
    "One method is to define complexity as a function of the size of the coefficients."
   ]
  },
  {
   "cell_type": "markdown",
   "metadata": {
    "slideshow": {
     "slide_type": "fragment"
    }
   },
   "source": [
    "For example:\n",
    "\n",
    "$\\sum|\\beta_i|$, or the so-called L1-norm\n",
    "\n",
    "$\\sum \\beta_i^2$, or the so-called L2-norm"
   ]
  },
  {
   "cell_type": "markdown",
   "metadata": {
    "slideshow": {
     "slide_type": "slide"
    }
   },
   "source": [
    "## Regularization basic idea"
   ]
  },
  {
   "cell_type": "markdown",
   "metadata": {
    "slideshow": {
     "slide_type": "fragment"
    }
   },
   "source": [
    "Basic idea: restrict the model's complexity\n",
    "\n",
    "L1 regularization: $y = \\sum\\beta_i x_i + \\epsilon \\quad st. \\sum |\\beta_i| < s$, which is also called LASSO Regression.\n",
    "\n",
    "L2 regularization: $y = \\sum\\beta_i x_i + \\epsilon \\quad st. \\sum \\beta_i^2 < s$, which is also called Ridge Regression."
   ]
  },
  {
   "cell_type": "markdown",
   "metadata": {
    "slideshow": {
     "slide_type": "fragment"
    }
   },
   "source": [
    "These regularization problems can also be expressed as: \n",
    "\n",
    "L1 regularization: $\\min(||\\mathbf{y} – \\mathbf{x}\\cdot \\mathbf{\\beta}||_2 + \\lambda||\\beta||_1)$\n",
    "\n",
    "L2 regularization: $\\min( ||\\mathbf{y} – \\mathbf{x} \\cdot \\mathbf{\\beta} ||_2 + \\lambda ||\\beta ||_2 )$\n",
    "\n",
    "There's a trade-off between accuracy and complexity."
   ]
  },
  {
   "cell_type": "markdown",
   "metadata": {
    "slideshow": {
     "slide_type": "slide"
    }
   },
   "source": [
    "# Performance with $L_1$ Regression (LASSO)"
   ]
  },
  {
   "cell_type": "code",
   "execution_count": 7,
   "metadata": {
    "slideshow": {
     "slide_type": "fragment"
    }
   },
   "outputs": [
    {
     "name": "stdout",
     "output_type": "stream",
     "text": [
      "Coefficients: [ 496.66920971]\n",
      "the mean sqare error:3482.77\n",
      "Variance score:0.28\n"
     ]
    }
   ],
   "source": [
    "#LASSO \"L1\" example:\n",
    "regr = linear_model.Lasso()\n",
    "regr.fit(diabetes_X_train,diabetes_y_train)\n",
    "\n",
    "print('Coefficients:',regr.coef_)\n",
    "\n",
    "print('the mean sqare error:%.2f' %np.mean((regr.predict(diabetes_X_test)-diabetes_y_test)**2))\n",
    "\n",
    "print('Variance score:%.2f' %regr.score(diabetes_X_test,diabetes_y_test))"
   ]
  },
  {
   "cell_type": "markdown",
   "metadata": {
    "slideshow": {
     "slide_type": "slide"
    }
   },
   "source": [
    "# Bias and Variance"
   ]
  },
  {
   "cell_type": "markdown",
   "metadata": {
    "slideshow": {
     "slide_type": "fragment"
    }
   },
   "source": [
    "* Bias refers to predictions that are systematically inaccurate.\n",
    "    * In machine learning this happens when you have ***too little complexity*** in your model"
   ]
  },
  {
   "cell_type": "markdown",
   "metadata": {
    "slideshow": {
     "slide_type": "fragment"
    }
   },
   "source": [
    "* Variance refers to predictions that are generally inaccurate.\n",
    "    * In machine learning this happens when you have ***too much complexity*** in your model\n",
    "    "
   ]
  },
  {
   "cell_type": "markdown",
   "metadata": {
    "slideshow": {
     "slide_type": "fragment"
    }
   },
   "source": [
    " * *Too much complexity leads to overfitting*"
   ]
  },
  {
   "cell_type": "markdown",
   "metadata": {
    "slideshow": {
     "slide_type": "fragment"
    }
   },
   "source": [
    "(Aſter some math) generalization error in our model can be decomposed into a bias component and variance component.\n",
    "\n",
    "In Regularized Regression, this  tradeoff is regulated by the hyperparameter $\\lambda$, which we’ve already seen:\n",
    "\n",
    "L1 regularization: $y = \\sum\\beta_i x_i + \\epsilon \\quad st. \\sum |\\beta_i| < \\lambda$\n",
    "\n",
    "L2 regularization: $y = \\sum\\beta_i x_i + \\epsilon \\quad st. \\sum \\beta_i^2 < \\lambda$"
   ]
  },
  {
   "cell_type": "markdown",
   "metadata": {
    "slideshow": {
     "slide_type": "slide"
    }
   },
   "source": [
    "# Tuning on Validation Data\n",
    "Regularization represents a method balance too much bias for too much variance:"
   ]
  },
  {
   "cell_type": "markdown",
   "metadata": {
    "slideshow": {
     "slide_type": "fragment"
    }
   },
   "source": [
    " * It lets us pick the right amount of complexity in the model\n",
    " "
   ]
  },
  {
   "cell_type": "markdown",
   "metadata": {
    "slideshow": {
     "slide_type": "fragment"
    }
   },
   "source": [
    " * How do we know what is the right amount?"
   ]
  },
  {
   "cell_type": "markdown",
   "metadata": {
    "slideshow": {
     "slide_type": "fragment"
    }
   },
   "source": [
    "1.We keep a **Validation Data Set** separated from the training data.\n",
    " "
   ]
  },
  {
   "cell_type": "markdown",
   "metadata": {
    "slideshow": {
     "slide_type": "fragment"
    }
   },
   "source": [
    "2.We for each hyperparameter choice, we train a different model.\n",
    " "
   ]
  },
  {
   "cell_type": "markdown",
   "metadata": {
    "slideshow": {
     "slide_type": "fragment"
    }
   },
   "source": [
    "3.We select the hyperparameter choice that performs best on the Validation data.     "
   ]
  },
  {
   "cell_type": "markdown",
   "metadata": {
    "slideshow": {
     "slide_type": "fragment"
    }
   },
   "source": [
    "***Warning:*** *validation set is used to tune - it is different from the test set which is used to determine OOS performance* "
   ]
  },
  {
   "cell_type": "markdown",
   "metadata": {
    "slideshow": {
     "slide_type": "slide"
    }
   },
   "source": [
    "# Cross-validation"
   ]
  },
  {
   "cell_type": "markdown",
   "metadata": {
    "slideshow": {
     "slide_type": "fragment"
    }
   },
   "source": [
    "* Cross validation is a form of hyperparameter tuning that you do when you don't have enough data to spare on a separate validation set. "
   ]
  },
  {
   "cell_type": "markdown",
   "metadata": {
    "slideshow": {
     "slide_type": "fragment"
    }
   },
   "source": [
    "* Instead you split the dataset multiple times, and take the average generalization error as a OOS set that you held out.\n",
    "    * Different sets in each \"fold\" of the cross-validation."
   ]
  },
  {
   "cell_type": "markdown",
   "metadata": {
    "slideshow": {
     "slide_type": "slide"
    }
   },
   "source": [
    "# Steps of n-fold cross-validation"
   ]
  },
  {
   "cell_type": "markdown",
   "metadata": {
    "slideshow": {
     "slide_type": "fragment"
    }
   },
   "source": [
    "* Randomly split the dataset into n equal partitions."
   ]
  },
  {
   "cell_type": "markdown",
   "metadata": {
    "slideshow": {
     "slide_type": "fragment"
    }
   },
   "source": [
    "* Use partition 1 as test set & union of other partitions as training set."
   ]
  },
  {
   "cell_type": "markdown",
   "metadata": {
    "slideshow": {
     "slide_type": "fragment"
    }
   },
   "source": [
    "* Find error on the part that was held out."
   ]
  },
  {
   "cell_type": "markdown",
   "metadata": {
    "slideshow": {
     "slide_type": "fragment"
    }
   },
   "source": [
    "* Repeat the previous two steps using a different partition as the test set at each iteration."
   ]
  },
  {
   "cell_type": "markdown",
   "metadata": {
    "slideshow": {
     "slide_type": "fragment"
    }
   },
   "source": [
    "* Take the average generalization error as the estimate performance for hypertuning."
   ]
  },
  {
   "cell_type": "markdown",
   "metadata": {
    "slideshow": {
     "slide_type": "slide"
    }
   },
   "source": [
    "# Examples:"
   ]
  },
  {
   "cell_type": "code",
   "execution_count": 147,
   "metadata": {
    "slideshow": {
     "slide_type": "fragment"
    }
   },
   "outputs": [
    {
     "name": "stdout",
     "output_type": "stream",
     "text": [
      "The best values of k are: \n",
      "1 according to the Training Set\n",
      "10 according to the Test Set \n",
      "50 according to Cross-Validation\n"
     ]
    }
   ],
   "source": [
    "import numpy as np\n",
    "from sklearn.cross_validation import train_test_split, cross_val_score\n",
    "\n",
    "knn = KNeighborsClassifier()\n",
    "\n",
    "n_neighbors = np.array([1, 10, 25, 50])\n",
    "\n",
    "train_scores = list()\n",
    "test_scores = list()\n",
    "cv_scores = list()\n",
    "\n",
    "for n in n_neighbors:\n",
    "    knn.n_neighbors = n\n",
    "    knn.fit(XTrain, yTrain)\n",
    "    train_scores.append(1 - metrics.accuracy_score(yTrain, knn.predict(XTrain))) # this will over-estimate the accuracy\n",
    "    test_scores.append(1 - metrics.accuracy_score(yTest, knn.predict(XTest)))\n",
    "    cv_scores.append(1 - cross_val_score(knn, XTrain, yTrain, cv = 10).mean()) # you take the mean of the CV scores\n",
    "\n",
    "# what do these different datasets think is the best value of k?\n",
    "\n",
    "print(\n",
    "'The best values of k are: \\n'\n",
    "'{} according to the Training Set\\n'\n",
    "'{} according to the Test Set \\n'\n",
    "'{} according to Cross-Validation'.format(\n",
    "min(n_neighbors[train_scores == min(train_scores)]),\n",
    "min(n_neighbors[test_scores == min(test_scores)]),\n",
    "min(n_neighbors[cv_scores == min(cv_scores)])\n",
    ")\n",
    ")"
   ]
  },
  {
   "cell_type": "markdown",
   "metadata": {
    "slideshow": {
     "slide_type": "slide"
    }
   },
   "source": [
    "## Features of n-fold cross-validation:"
   ]
  },
  {
   "cell_type": "markdown",
   "metadata": {
    "slideshow": {
     "slide_type": "fragment"
    }
   },
   "source": [
    "* More accurate estimate of OOS prediction error. "
   ]
  },
  {
   "cell_type": "markdown",
   "metadata": {
    "slideshow": {
     "slide_type": "fragment"
    }
   },
   "source": [
    "*  More efficient use of data than single train/test split. Each record in our dataset is used for both training and testing. "
   ]
  },
  {
   "cell_type": "markdown",
   "metadata": {
    "slideshow": {
     "slide_type": "fragment"
    }
   },
   "source": [
    "* Presents tradeoff between efficiency and computational expense. 10-fold CV is 10x more expensive than a single train/test split "
   ]
  },
  {
   "cell_type": "markdown",
   "metadata": {
    "slideshow": {
     "slide_type": "fragment"
    }
   },
   "source": [
    "* Can be used for model selection."
   ]
  },
  {
   "cell_type": "code",
   "execution_count": 7,
   "metadata": {
    "slideshow": {
     "slide_type": "skip"
    }
   },
   "outputs": [
    {
     "data": {
      "text/html": [
       "\n",
       "\n",
       "\n",
       "\n",
       "\n",
       "\n",
       "<!DOCTYPE html>\n",
       "<html lang=\"en\">\n",
       "  <head>\n",
       "    <meta charset=\"utf-8\">\n",
       "  <link rel=\"dns-prefetch\" href=\"https://assets-cdn.github.com\">\n",
       "  <link rel=\"dns-prefetch\" href=\"https://avatars0.githubusercontent.com\">\n",
       "  <link rel=\"dns-prefetch\" href=\"https://avatars1.githubusercontent.com\">\n",
       "  <link rel=\"dns-prefetch\" href=\"https://avatars2.githubusercontent.com\">\n",
       "  <link rel=\"dns-prefetch\" href=\"https://avatars3.githubusercontent.com\">\n",
       "  <link rel=\"dns-prefetch\" href=\"https://github-cloud.s3.amazonaws.com\">\n",
       "  <link rel=\"dns-prefetch\" href=\"https://user-images.githubusercontent.com/\">\n",
       "\n",
       "\n",
       "\n",
       "  <link crossorigin=\"anonymous\" href=\"https://assets-cdn.github.com/assets/frameworks-d7137690e30123bade38abb082ac79f36cc7a105ff92e602405f53b725465cab.css\" integrity=\"sha256-1xN2kOMBI7reOKuwgqx582zHoQX/kuYCQF9TtyVGXKs=\" media=\"all\" rel=\"stylesheet\" />\n",
       "  <link crossorigin=\"anonymous\" href=\"https://assets-cdn.github.com/assets/github-d66c0d0fc5338d94f18dcf3b239ebb67da075d8c141af48eac6226dab0c36a64.css\" integrity=\"sha256-1mwND8UzjZTxjc87I567Z9oHXYwUGvSOrGIm2rDDamQ=\" media=\"all\" rel=\"stylesheet\" />\n",
       "  \n",
       "  \n",
       "  \n",
       "  \n",
       "\n",
       "  <meta name=\"viewport\" content=\"width=device-width\">\n",
       "  \n",
       "  <title>Presentations/slides.html at master · hzzyyy/Presentations</title>\n",
       "  <link rel=\"search\" type=\"application/opensearchdescription+xml\" href=\"/opensearch.xml\" title=\"GitHub\">\n",
       "  <link rel=\"fluid-icon\" href=\"https://github.com/fluidicon.png\" title=\"GitHub\">\n",
       "  <meta property=\"fb:app_id\" content=\"1401488693436528\">\n",
       "\n",
       "    \n",
       "    <meta content=\"https://avatars1.githubusercontent.com/u/5233801?s=400&amp;v=4\" property=\"og:image\" /><meta content=\"GitHub\" property=\"og:site_name\" /><meta content=\"object\" property=\"og:type\" /><meta content=\"hzzyyy/Presentations\" property=\"og:title\" /><meta content=\"https://github.com/hzzyyy/Presentations\" property=\"og:url\" /><meta content=\"Contribute to Presentations development by creating an account on GitHub.\" property=\"og:description\" />\n",
       "\n",
       "  <link rel=\"assets\" href=\"https://assets-cdn.github.com/\">\n",
       "  <link rel=\"web-socket\" href=\"wss://live.github.com/_sockets/VjI6MjA0ODU3NzE2OjE1MjZjOWExZDBiZWUwNTU3NTFhYTlhZDM2ZWNkMjU4ZWM3ZjM2MjM1OThjY2ZkMzMzMDhhYjJhNDA2NDA0NzY=--5252253451842dad7b0d0ee36e56a32395c02cd1\">\n",
       "  <meta name=\"pjax-timeout\" content=\"1000\">\n",
       "  <link rel=\"sudo-modal\" href=\"/sessions/sudo_modal\">\n",
       "  <meta name=\"request-id\" content=\"F37C:3026:3FB2F30:685DD40:59E57FE5\" data-pjax-transient>\n",
       "  \n",
       "\n",
       "  <meta name=\"selected-link\" value=\"repo_source\" data-pjax-transient>\n",
       "\n",
       "  <meta name=\"google-site-verification\" content=\"KT5gs8h0wvaagLKAVWq8bbeNwnZZK1r1XQysX3xurLU\">\n",
       "<meta name=\"google-site-verification\" content=\"ZzhVyEFwb7w3e0-uOTltm8Jsck2F5StVihD0exw2fsA\">\n",
       "    <meta name=\"google-analytics\" content=\"UA-3769691-2\">\n",
       "\n",
       "<meta content=\"collector.githubapp.com\" name=\"octolytics-host\" /><meta content=\"github\" name=\"octolytics-app-id\" /><meta content=\"https://collector.githubapp.com/github-external/browser_event\" name=\"octolytics-event-url\" /><meta content=\"F37C:3026:3FB2F30:685DD40:59E57FE5\" name=\"octolytics-dimension-request_id\" /><meta content=\"iad\" name=\"octolytics-dimension-region_edge\" /><meta content=\"iad\" name=\"octolytics-dimension-region_render\" /><meta content=\"7728801\" name=\"octolytics-actor-id\" /><meta content=\"mike-tamir\" name=\"octolytics-actor-login\" /><meta content=\"83d1f4e51f4ccee6f9f39693b46107109f71f1860760abedd024a2cc09da97ff\" name=\"octolytics-actor-hash\" />\n",
       "<meta content=\"/&lt;user-name&gt;/&lt;repo-name&gt;/blob/show\" data-pjax-transient=\"true\" name=\"analytics-location\" />\n",
       "\n",
       "\n",
       "\n",
       "\n",
       "  <meta class=\"js-ga-set\" name=\"dimension1\" content=\"Logged In\">\n",
       "\n",
       "\n",
       "  \n",
       "\n",
       "      <meta name=\"hostname\" content=\"github.com\">\n",
       "  <meta name=\"user-login\" content=\"mike-tamir\">\n",
       "\n",
       "      <meta name=\"expected-hostname\" content=\"github.com\">\n",
       "    <meta name=\"js-proxy-site-detection-payload\" content=\"Mzk4MTEyNWRkY2VhOWFiM2Y4NTQzYTBkMGFmNzcwMWExZDRhNjhlNWE1MzFkZTFmZjc0OWI2ZjJhNjllM2M0N3x7InJlbW90ZV9hZGRyZXNzIjoiMTA3LjIwMC40My4zIiwicmVxdWVzdF9pZCI6IkYzN0M6MzAyNjozRkIyRjMwOjY4NURENDA6NTlFNTdGRTUiLCJ0aW1lc3RhbXAiOjE1MDgyMTI3MTAsImhvc3QiOiJnaXRodWIuY29tIn0=\">\n",
       "\n",
       "    <meta name=\"enabled-features\" content=\"UNIVERSE_BANNER\">\n",
       "\n",
       "  <meta name=\"html-safe-nonce\" content=\"26694644280e2e7e8b2a6ce12781e5119cdcaa4c\">\n",
       "\n",
       "  <meta http-equiv=\"x-pjax-version\" content=\"abbcff1befacffd742baaf4ae19e19fa\">\n",
       "  \n",
       "\n",
       "      <link href=\"https://github.com/hzzyyy/Presentations/commits/master.atom\" rel=\"alternate\" title=\"Recent Commits to Presentations:master\" type=\"application/atom+xml\">\n",
       "\n",
       "  <meta name=\"description\" content=\"Contribute to Presentations development by creating an account on GitHub.\">\n",
       "  <meta name=\"go-import\" content=\"github.com/hzzyyy/Presentations git https://github.com/hzzyyy/Presentations.git\">\n",
       "\n",
       "  <meta content=\"5233801\" name=\"octolytics-dimension-user_id\" /><meta content=\"hzzyyy\" name=\"octolytics-dimension-user_login\" /><meta content=\"70354139\" name=\"octolytics-dimension-repository_id\" /><meta content=\"hzzyyy/Presentations\" name=\"octolytics-dimension-repository_nwo\" /><meta content=\"true\" name=\"octolytics-dimension-repository_public\" /><meta content=\"false\" name=\"octolytics-dimension-repository_is_fork\" /><meta content=\"70354139\" name=\"octolytics-dimension-repository_network_root_id\" /><meta content=\"hzzyyy/Presentations\" name=\"octolytics-dimension-repository_network_root_nwo\" /><meta content=\"false\" name=\"octolytics-dimension-repository_explore_github_marketplace_ci_cta_shown\" />\n",
       "\n",
       "\n",
       "    <link rel=\"canonical\" href=\"https://github.com/hzzyyy/Presentations/blob/master/slides.html\" data-pjax-transient>\n",
       "\n",
       "\n",
       "  <meta name=\"browser-stats-url\" content=\"https://api.github.com/_private/browser/stats\">\n",
       "\n",
       "  <meta name=\"browser-errors-url\" content=\"https://api.github.com/_private/browser/errors\">\n",
       "\n",
       "  <link rel=\"mask-icon\" href=\"https://assets-cdn.github.com/pinned-octocat.svg\" color=\"#000000\">\n",
       "  <link rel=\"icon\" type=\"image/x-icon\" href=\"https://assets-cdn.github.com/favicon.ico\">\n",
       "\n",
       "<meta name=\"theme-color\" content=\"#1e2327\">\n",
       "\n",
       "\n",
       "  <meta name=\"u2f-support\" content=\"true\">\n",
       "\n",
       "  </head>\n",
       "\n",
       "  <body class=\"logged-in env-production emoji-size-boost page-blob\">\n",
       "    \n",
       "\n",
       "  <div class=\"position-relative js-header-wrapper \">\n",
       "    <a href=\"#start-of-content\" tabindex=\"1\" class=\"bg-black text-white p-3 show-on-focus js-skip-to-content\">Skip to content</a>\n",
       "    <div id=\"js-pjax-loader-bar\" class=\"pjax-loader-bar\"><div class=\"progress\"></div></div>\n",
       "\n",
       "    \n",
       "    \n",
       "    \n",
       "\n",
       "\n",
       "\n",
       "        \n",
       "<header class=\"Header  f5\" role=\"banner\">\n",
       "  <div class=\"d-flex px-3 flex-justify-between container-lg\">\n",
       "    <div class=\"d-flex flex-justify-between\">\n",
       "      <a class=\"header-logo-invertocat\" href=\"https://github.com/\" data-hotkey=\"g d\" aria-label=\"Homepage\" data-ga-click=\"Header, go to dashboard, icon:logo\">\n",
       "  <svg aria-hidden=\"true\" class=\"octicon octicon-mark-github\" height=\"32\" version=\"1.1\" viewBox=\"0 0 16 16\" width=\"32\"><path fill-rule=\"evenodd\" d=\"M8 0C3.58 0 0 3.58 0 8c0 3.54 2.29 6.53 5.47 7.59.4.07.55-.17.55-.38 0-.19-.01-.82-.01-1.49-2.01.37-2.53-.49-2.69-.94-.09-.23-.48-.94-.82-1.13-.28-.15-.68-.52-.01-.53.63-.01 1.08.58 1.23.82.72 1.21 1.87.87 2.33.66.07-.52.28-.87.51-1.07-1.78-.2-3.64-.89-3.64-3.95 0-.87.31-1.59.82-2.15-.08-.2-.36-1.02.08-2.12 0 0 .67-.21 2.2.82.64-.18 1.32-.27 2-.27.68 0 1.36.09 2 .27 1.53-1.04 2.2-.82 2.2-.82.44 1.1.16 1.92.08 2.12.51.56.82 1.27.82 2.15 0 3.07-1.87 3.75-3.65 3.95.29.25.54.73.54 1.48 0 1.07-.01 1.93-.01 2.2 0 .21.15.46.55.38A8.013 8.013 0 0 0 16 8c0-4.42-3.58-8-8-8z\"/></svg>\n",
       "</a>\n",
       "\n",
       "\n",
       "    </div>\n",
       "\n",
       "    <div class=\"HeaderMenu d-flex flex-justify-between flex-auto\">\n",
       "      <div class=\"d-flex\">\n",
       "            <div class=\"\">\n",
       "              <div class=\"header-search scoped-search site-scoped-search js-site-search\" role=\"search\">\n",
       "  <!-- '\"` --><!-- </textarea></xmp> --></option></form><form accept-charset=\"UTF-8\" action=\"/hzzyyy/Presentations/search\" class=\"js-site-search-form\" data-scoped-search-url=\"/hzzyyy/Presentations/search\" data-unscoped-search-url=\"/search\" method=\"get\"><div style=\"margin:0;padding:0;display:inline\"><input name=\"utf8\" type=\"hidden\" value=\"&#x2713;\" /></div>\n",
       "    <label class=\"form-control header-search-wrapper js-chromeless-input-container\">\n",
       "        <a href=\"/hzzyyy/Presentations/blob/master/slides.html\" class=\"header-search-scope no-underline\">This repository</a>\n",
       "      <input type=\"text\"\n",
       "        class=\"form-control header-search-input js-site-search-focus js-site-search-field is-clearable\"\n",
       "        data-hotkey=\"s\"\n",
       "        name=\"q\"\n",
       "        value=\"\"\n",
       "        placeholder=\"Search\"\n",
       "        aria-label=\"Search this repository\"\n",
       "        data-unscoped-placeholder=\"Search GitHub\"\n",
       "        data-scoped-placeholder=\"Search\"\n",
       "        autocapitalize=\"off\">\n",
       "        <input type=\"hidden\" class=\"js-site-search-type-field\" name=\"type\" >\n",
       "    </label>\n",
       "</form></div>\n",
       "\n",
       "            </div>\n",
       "\n",
       "          <ul class=\"d-flex pl-2 flex-items-center text-bold list-style-none\" role=\"navigation\">\n",
       "            <li>\n",
       "              <a href=\"/pulls\" aria-label=\"Pull requests you created\" class=\"js-selected-navigation-item HeaderNavlink px-2\" data-ga-click=\"Header, click, Nav menu - item:pulls context:user\" data-hotkey=\"g p\" data-selected-links=\"/pulls /pulls/assigned /pulls/mentioned /pulls\">\n",
       "                Pull requests\n",
       "</a>            </li>\n",
       "            <li>\n",
       "              <a href=\"/issues\" aria-label=\"Issues you created\" class=\"js-selected-navigation-item HeaderNavlink px-2\" data-ga-click=\"Header, click, Nav menu - item:issues context:user\" data-hotkey=\"g i\" data-selected-links=\"/issues /issues/assigned /issues/mentioned /issues\">\n",
       "                Issues\n",
       "</a>            </li>\n",
       "                <li>\n",
       "                  <a href=\"/marketplace\" class=\"js-selected-navigation-item HeaderNavlink px-2\" data-ga-click=\"Header, click, Nav menu - item:marketplace context:user\" data-selected-links=\" /marketplace\">\n",
       "                    Marketplace\n",
       "</a>                </li>\n",
       "            <li>\n",
       "              <a href=\"/explore\" class=\"js-selected-navigation-item HeaderNavlink px-2\" data-ga-click=\"Header, click, Nav menu - item:explore\" data-selected-links=\"/explore /trending /trending/developers /integrations /integrations/feature/code /integrations/feature/collaborate /integrations/feature/ship showcases showcases_search showcases_landing /explore\">\n",
       "                Explore\n",
       "</a>            </li>\n",
       "          </ul>\n",
       "      </div>\n",
       "\n",
       "      <div class=\"d-flex\">\n",
       "        \n",
       "<ul class=\"user-nav d-flex flex-items-center list-style-none\" id=\"user-links\">\n",
       "  <li class=\"dropdown js-menu-container js-header-notifications\">\n",
       "    <span class=\"d-inline-block  px-2\">\n",
       "      \n",
       "\n",
       "    </span>\n",
       "  </li>\n",
       "\n",
       "  <li class=\"dropdown js-menu-container\">\n",
       "    <details class=\"dropdown-details js-dropdown-details d-flex px-2 flex-items-center\">\n",
       "      <summary class=\"HeaderNavlink\"\n",
       "         aria-label=\"Create new…\"\n",
       "         data-ga-click=\"Header, create new, icon:add\">\n",
       "        <svg aria-hidden=\"true\" class=\"octicon octicon-plus float-left mr-1 mt-1\" height=\"16\" version=\"1.1\" viewBox=\"0 0 12 16\" width=\"12\"><path fill-rule=\"evenodd\" d=\"M12 9H7v5H5V9H0V7h5V2h2v5h5z\"/></svg>\n",
       "        <span class=\"dropdown-caret mt-1\"></span>\n",
       "      </summary>\n",
       "\n",
       "      <ul class=\"dropdown-menu dropdown-menu-sw\">\n",
       "        \n",
       "<a class=\"dropdown-item\" href=\"/new\" data-ga-click=\"Header, create new repository\">\n",
       "  New repository\n",
       "</a>\n",
       "\n",
       "  <a class=\"dropdown-item\" href=\"/new/import\" data-ga-click=\"Header, import a repository\">\n",
       "    Import repository\n",
       "  </a>\n",
       "\n",
       "<a class=\"dropdown-item\" href=\"https://gist.github.com/\" data-ga-click=\"Header, create new gist\">\n",
       "  New gist\n",
       "</a>\n",
       "\n",
       "  <a class=\"dropdown-item\" href=\"/organizations/new\" data-ga-click=\"Header, create new organization\">\n",
       "    New organization\n",
       "  </a>\n",
       "\n",
       "\n",
       "\n",
       "  <div class=\"dropdown-divider\"></div>\n",
       "  <div class=\"dropdown-header\">\n",
       "    <span title=\"hzzyyy/Presentations\">This repository</span>\n",
       "  </div>\n",
       "    <a class=\"dropdown-item\" href=\"/hzzyyy/Presentations/issues/new\" data-ga-click=\"Header, create new issue\">\n",
       "      New issue\n",
       "    </a>\n",
       "\n",
       "      </ul>\n",
       "    </details>\n",
       "  </li>\n",
       "\n",
       "  <li class=\"dropdown js-menu-container\">\n",
       "\n",
       "    <details class=\"dropdown-details js-dropdown-details d-flex pl-2 flex-items-center\">\n",
       "      <summary class=\"HeaderNavlink name mt-1\"\n",
       "        aria-label=\"View profile and more\"\n",
       "        data-ga-click=\"Header, show menu, icon:avatar\">\n",
       "        <img alt=\"@mike-tamir\" class=\"avatar float-left mr-1\" src=\"https://avatars3.githubusercontent.com/u/7728801?s=40&amp;v=4\" height=\"20\" width=\"20\">\n",
       "        <span class=\"dropdown-caret\"></span>\n",
       "      </summary>\n",
       "\n",
       "      <ul class=\"dropdown-menu dropdown-menu-sw\">\n",
       "        <li class=\"dropdown-header header-nav-current-user css-truncate\">\n",
       "          Signed in as <strong class=\"css-truncate-target\">mike-tamir</strong>\n",
       "        </li>\n",
       "\n",
       "        <li class=\"dropdown-divider\"></li>\n",
       "\n",
       "        <li><a class=\"dropdown-item\" href=\"/mike-tamir\" data-ga-click=\"Header, go to profile, text:your profile\">\n",
       "          Your profile\n",
       "        </a></li>\n",
       "        <li><a class=\"dropdown-item\" href=\"/mike-tamir?tab=stars\" data-ga-click=\"Header, go to starred repos, text:your stars\">\n",
       "          Your stars\n",
       "        </a></li>\n",
       "          <li><a class=\"dropdown-item\" href=\"https://gist.github.com/\" data-ga-click=\"Header, your gists, text:your gists\">Your Gists</a></li>\n",
       "\n",
       "        <li class=\"dropdown-divider\"></li>\n",
       "\n",
       "        <li><a class=\"dropdown-item\" href=\"https://help.github.com\" data-ga-click=\"Header, go to help, text:help\">\n",
       "          Help\n",
       "        </a></li>\n",
       "\n",
       "        <li><a class=\"dropdown-item\" href=\"/settings/profile\" data-ga-click=\"Header, go to settings, icon:settings\">\n",
       "          Settings\n",
       "        </a></li>\n",
       "\n",
       "        <li><!-- '\"` --><!-- </textarea></xmp> --></option></form><form accept-charset=\"UTF-8\" action=\"/logout\" class=\"logout-form\" method=\"post\"><div style=\"margin:0;padding:0;display:inline\"><input name=\"utf8\" type=\"hidden\" value=\"&#x2713;\" /><input name=\"authenticity_token\" type=\"hidden\" value=\"69ZwhMvzCUWZCDD+UHg755Ix3DHb1b3+hNpGgI8IejBo6+Fk5kaSiCY2mb8dwFROrX5wpMcI1jqvsIdudS6xNg==\" /></div>\n",
       "          <button type=\"submit\" class=\"dropdown-item dropdown-signout\" data-ga-click=\"Header, sign out, icon:logout\">\n",
       "            Sign out\n",
       "          </button>\n",
       "        </form></li>\n",
       "      </ul>\n",
       "    </details>\n",
       "  </li>\n",
       "</ul>\n",
       "\n",
       "\n",
       "        <!-- '\"` --><!-- </textarea></xmp> --></option></form><form accept-charset=\"UTF-8\" action=\"/logout\" class=\"sr-only right-0\" method=\"post\"><div style=\"margin:0;padding:0;display:inline\"><input name=\"utf8\" type=\"hidden\" value=\"&#x2713;\" /><input name=\"authenticity_token\" type=\"hidden\" value=\"GPpUYsAxtPMCQsA+/3Q9fWNy+RmpnXuIBe6QDR3+nRybx8WC7YQvPr18aX+yzFLUXD1VjLVAEEwuhFHj59hWGg==\" /></div>\n",
       "          <button type=\"submit\" class=\"dropdown-item dropdown-signout\" data-ga-click=\"Header, sign out, icon:logout\">\n",
       "            Sign out\n",
       "          </button>\n",
       "</form>      </div>\n",
       "    </div>\n",
       "  </div>\n",
       "</header>\n",
       "\n",
       "\n",
       "      \n",
       "\n",
       "  </div>\n",
       "\n",
       "  <div id=\"start-of-content\" class=\"show-on-focus\"></div>\n",
       "\n",
       "    <div id=\"js-flash-container\">\n",
       "</div>\n",
       "\n",
       "\n",
       "\n",
       "  <div role=\"main\">\n",
       "        <div itemscope itemtype=\"http://schema.org/SoftwareSourceCode\">\n",
       "    <div id=\"js-repo-pjax-container\" data-pjax-container>\n",
       "      \n",
       "\n",
       "\n",
       "\n",
       "\n",
       "\n",
       "    <div class=\"pagehead repohead instapaper_ignore readability-menu experiment-repo-nav \">\n",
       "      <div class=\"repohead-details-container clearfix container \">\n",
       "\n",
       "        <ul class=\"pagehead-actions\">\n",
       "  <li>\n",
       "        <!-- '\"` --><!-- </textarea></xmp> --></option></form><form accept-charset=\"UTF-8\" action=\"/notifications/subscribe\" class=\"js-social-container\" data-autosubmit=\"true\" data-remote=\"true\" method=\"post\"><div style=\"margin:0;padding:0;display:inline\"><input name=\"utf8\" type=\"hidden\" value=\"&#x2713;\" /><input name=\"authenticity_token\" type=\"hidden\" value=\"NNJ3/9kCS/mobA5068Ql2yFU5Rv4PO0YF6C4TxoqgiPqzXBHeGMLn8YYg/dfbs0yHxbHqdOUFnIaMFqFPX+MMg==\" /></div>      <input class=\"form-control\" id=\"repository_id\" name=\"repository_id\" type=\"hidden\" value=\"70354139\" />\n",
       "\n",
       "        <div class=\"select-menu js-menu-container js-select-menu\">\n",
       "          <a href=\"/hzzyyy/Presentations/subscription\"\n",
       "            class=\"btn btn-sm btn-with-count select-menu-button js-menu-target\"\n",
       "            role=\"button\"\n",
       "            aria-haspopup=\"true\"\n",
       "            aria-expanded=\"false\"\n",
       "            aria-label=\"Toggle repository notifications menu\"\n",
       "            data-ga-click=\"Repository, click Watch settings, action:blob#show\">\n",
       "            <span class=\"js-select-button\">\n",
       "                <svg aria-hidden=\"true\" class=\"octicon octicon-eye\" height=\"16\" version=\"1.1\" viewBox=\"0 0 16 16\" width=\"16\"><path fill-rule=\"evenodd\" d=\"M8.06 2C3 2 0 8 0 8s3 6 8.06 6C13 14 16 8 16 8s-3-6-7.94-6zM8 12c-2.2 0-4-1.78-4-4 0-2.2 1.8-4 4-4 2.22 0 4 1.8 4 4 0 2.22-1.78 4-4 4zm2-4c0 1.11-.89 2-2 2-1.11 0-2-.89-2-2 0-1.11.89-2 2-2 1.11 0 2 .89 2 2z\"/></svg>\n",
       "                Watch\n",
       "            </span>\n",
       "          </a>\n",
       "            <a class=\"social-count js-social-count\"\n",
       "              href=\"/hzzyyy/Presentations/watchers\"\n",
       "              aria-label=\"1 user is watching this repository\">\n",
       "              1\n",
       "            </a>\n",
       "\n",
       "        <div class=\"select-menu-modal-holder\">\n",
       "          <div class=\"select-menu-modal subscription-menu-modal js-menu-content\">\n",
       "            <div class=\"select-menu-header js-navigation-enable\" tabindex=\"-1\">\n",
       "              <svg aria-label=\"Close\" class=\"octicon octicon-x js-menu-close\" height=\"16\" role=\"img\" version=\"1.1\" viewBox=\"0 0 12 16\" width=\"12\"><path fill-rule=\"evenodd\" d=\"M7.48 8l3.75 3.75-1.48 1.48L6 9.48l-3.75 3.75-1.48-1.48L4.52 8 .77 4.25l1.48-1.48L6 6.52l3.75-3.75 1.48 1.48z\"/></svg>\n",
       "              <span class=\"select-menu-title\">Notifications</span>\n",
       "            </div>\n",
       "\n",
       "              <div class=\"select-menu-list js-navigation-container\" role=\"menu\">\n",
       "\n",
       "                <div class=\"select-menu-item js-navigation-item selected\" role=\"menuitem\" tabindex=\"0\">\n",
       "                  <svg aria-hidden=\"true\" class=\"octicon octicon-check select-menu-item-icon\" height=\"16\" version=\"1.1\" viewBox=\"0 0 12 16\" width=\"12\"><path fill-rule=\"evenodd\" d=\"M12 5l-8 8-4-4 1.5-1.5L4 10l6.5-6.5z\"/></svg>\n",
       "                  <div class=\"select-menu-item-text\">\n",
       "                    <input checked=\"checked\" id=\"do_included\" name=\"do\" type=\"radio\" value=\"included\" />\n",
       "                    <span class=\"select-menu-item-heading\">Not watching</span>\n",
       "                    <span class=\"description\">Be notified when participating or @mentioned.</span>\n",
       "                    <span class=\"js-select-button-text hidden-select-button-text\">\n",
       "                      <svg aria-hidden=\"true\" class=\"octicon octicon-eye\" height=\"16\" version=\"1.1\" viewBox=\"0 0 16 16\" width=\"16\"><path fill-rule=\"evenodd\" d=\"M8.06 2C3 2 0 8 0 8s3 6 8.06 6C13 14 16 8 16 8s-3-6-7.94-6zM8 12c-2.2 0-4-1.78-4-4 0-2.2 1.8-4 4-4 2.22 0 4 1.8 4 4 0 2.22-1.78 4-4 4zm2-4c0 1.11-.89 2-2 2-1.11 0-2-.89-2-2 0-1.11.89-2 2-2 1.11 0 2 .89 2 2z\"/></svg>\n",
       "                      Watch\n",
       "                    </span>\n",
       "                  </div>\n",
       "                </div>\n",
       "\n",
       "                <div class=\"select-menu-item js-navigation-item \" role=\"menuitem\" tabindex=\"0\">\n",
       "                  <svg aria-hidden=\"true\" class=\"octicon octicon-check select-menu-item-icon\" height=\"16\" version=\"1.1\" viewBox=\"0 0 12 16\" width=\"12\"><path fill-rule=\"evenodd\" d=\"M12 5l-8 8-4-4 1.5-1.5L4 10l6.5-6.5z\"/></svg>\n",
       "                  <div class=\"select-menu-item-text\">\n",
       "                    <input id=\"do_subscribed\" name=\"do\" type=\"radio\" value=\"subscribed\" />\n",
       "                    <span class=\"select-menu-item-heading\">Watching</span>\n",
       "                    <span class=\"description\">Be notified of all conversations.</span>\n",
       "                    <span class=\"js-select-button-text hidden-select-button-text\">\n",
       "                      <svg aria-hidden=\"true\" class=\"octicon octicon-eye\" height=\"16\" version=\"1.1\" viewBox=\"0 0 16 16\" width=\"16\"><path fill-rule=\"evenodd\" d=\"M8.06 2C3 2 0 8 0 8s3 6 8.06 6C13 14 16 8 16 8s-3-6-7.94-6zM8 12c-2.2 0-4-1.78-4-4 0-2.2 1.8-4 4-4 2.22 0 4 1.8 4 4 0 2.22-1.78 4-4 4zm2-4c0 1.11-.89 2-2 2-1.11 0-2-.89-2-2 0-1.11.89-2 2-2 1.11 0 2 .89 2 2z\"/></svg>\n",
       "                        Unwatch\n",
       "                    </span>\n",
       "                  </div>\n",
       "                </div>\n",
       "\n",
       "                <div class=\"select-menu-item js-navigation-item \" role=\"menuitem\" tabindex=\"0\">\n",
       "                  <svg aria-hidden=\"true\" class=\"octicon octicon-check select-menu-item-icon\" height=\"16\" version=\"1.1\" viewBox=\"0 0 12 16\" width=\"12\"><path fill-rule=\"evenodd\" d=\"M12 5l-8 8-4-4 1.5-1.5L4 10l6.5-6.5z\"/></svg>\n",
       "                  <div class=\"select-menu-item-text\">\n",
       "                    <input id=\"do_ignore\" name=\"do\" type=\"radio\" value=\"ignore\" />\n",
       "                    <span class=\"select-menu-item-heading\">Ignoring</span>\n",
       "                    <span class=\"description\">Never be notified.</span>\n",
       "                    <span class=\"js-select-button-text hidden-select-button-text\">\n",
       "                      <svg aria-hidden=\"true\" class=\"octicon octicon-mute\" height=\"16\" version=\"1.1\" viewBox=\"0 0 16 16\" width=\"16\"><path fill-rule=\"evenodd\" d=\"M8 2.81v10.38c0 .67-.81 1-1.28.53L3 10H1c-.55 0-1-.45-1-1V7c0-.55.45-1 1-1h2l3.72-3.72C7.19 1.81 8 2.14 8 2.81zm7.53 3.22l-1.06-1.06-1.97 1.97-1.97-1.97-1.06 1.06L11.44 8 9.47 9.97l1.06 1.06 1.97-1.97 1.97 1.97 1.06-1.06L13.56 8l1.97-1.97z\"/></svg>\n",
       "                        Stop ignoring\n",
       "                    </span>\n",
       "                  </div>\n",
       "                </div>\n",
       "\n",
       "              </div>\n",
       "\n",
       "            </div>\n",
       "          </div>\n",
       "        </div>\n",
       "</form>\n",
       "  </li>\n",
       "\n",
       "  <li>\n",
       "    \n",
       "  <div class=\"js-toggler-container js-social-container starring-container \">\n",
       "    <!-- '\"` --><!-- </textarea></xmp> --></option></form><form accept-charset=\"UTF-8\" action=\"/hzzyyy/Presentations/unstar\" class=\"starred js-social-form\" method=\"post\"><div style=\"margin:0;padding:0;display:inline\"><input name=\"utf8\" type=\"hidden\" value=\"&#x2713;\" /><input name=\"authenticity_token\" type=\"hidden\" value=\"Z6u6mgsONsbRd+cVcl/ynDoktuq7M0vttJY5C21MCmbZWPDCg+Y0V2tlGX77R5HL5g12ibnHbg44NdOTk2BGZg==\" /></div>\n",
       "      <input type=\"hidden\" name=\"context\" value=\"repository\"></input>\n",
       "      <button\n",
       "        type=\"submit\"\n",
       "        class=\"btn btn-sm btn-with-count js-toggler-target\"\n",
       "        aria-label=\"Unstar this repository\" title=\"Unstar hzzyyy/Presentations\"\n",
       "        data-ga-click=\"Repository, click unstar button, action:blob#show; text:Unstar\">\n",
       "        <svg aria-hidden=\"true\" class=\"octicon octicon-star\" height=\"16\" version=\"1.1\" viewBox=\"0 0 14 16\" width=\"14\"><path fill-rule=\"evenodd\" d=\"M14 6l-4.9-.64L7 1 4.9 5.36 0 6l3.6 3.26L2.67 14 7 11.67 11.33 14l-.93-4.74z\"/></svg>\n",
       "        Unstar\n",
       "      </button>\n",
       "        <a class=\"social-count js-social-count\" href=\"/hzzyyy/Presentations/stargazers\"\n",
       "           aria-label=\"0 users starred this repository\">\n",
       "          0\n",
       "        </a>\n",
       "</form>\n",
       "    <!-- '\"` --><!-- </textarea></xmp> --></option></form><form accept-charset=\"UTF-8\" action=\"/hzzyyy/Presentations/star\" class=\"unstarred js-social-form\" method=\"post\"><div style=\"margin:0;padding:0;display:inline\"><input name=\"utf8\" type=\"hidden\" value=\"&#x2713;\" /><input name=\"authenticity_token\" type=\"hidden\" value=\"2ALsCz4INanvh/fr3RQWgLjQZ3ASzOKh/irMpBPQnGYO6KcS2rHaFzlNs4RETCCIVFPxwZbPMHVYgrdTBS3GhQ==\" /></div>\n",
       "      <input type=\"hidden\" name=\"context\" value=\"repository\"></input>\n",
       "      <button\n",
       "        type=\"submit\"\n",
       "        class=\"btn btn-sm btn-with-count js-toggler-target\"\n",
       "        aria-label=\"Star this repository\" title=\"Star hzzyyy/Presentations\"\n",
       "        data-ga-click=\"Repository, click star button, action:blob#show; text:Star\">\n",
       "        <svg aria-hidden=\"true\" class=\"octicon octicon-star\" height=\"16\" version=\"1.1\" viewBox=\"0 0 14 16\" width=\"14\"><path fill-rule=\"evenodd\" d=\"M14 6l-4.9-.64L7 1 4.9 5.36 0 6l3.6 3.26L2.67 14 7 11.67 11.33 14l-.93-4.74z\"/></svg>\n",
       "        Star\n",
       "      </button>\n",
       "        <a class=\"social-count js-social-count\" href=\"/hzzyyy/Presentations/stargazers\"\n",
       "           aria-label=\"0 users starred this repository\">\n",
       "          0\n",
       "        </a>\n",
       "</form>  </div>\n",
       "\n",
       "  </li>\n",
       "\n",
       "  <li>\n",
       "          <a href=\"#fork-destination-box\" class=\"btn btn-sm btn-with-count\"\n",
       "              title=\"Fork your own copy of hzzyyy/Presentations to your account\"\n",
       "              aria-label=\"Fork your own copy of hzzyyy/Presentations to your account\"\n",
       "              rel=\"facebox\"\n",
       "              data-ga-click=\"Repository, show fork modal, action:blob#show; text:Fork\">\n",
       "              <svg aria-hidden=\"true\" class=\"octicon octicon-repo-forked\" height=\"16\" version=\"1.1\" viewBox=\"0 0 10 16\" width=\"10\"><path fill-rule=\"evenodd\" d=\"M8 1a1.993 1.993 0 0 0-1 3.72V6L5 8 3 6V4.72A1.993 1.993 0 0 0 2 1a1.993 1.993 0 0 0-1 3.72V6.5l3 3v1.78A1.993 1.993 0 0 0 5 15a1.993 1.993 0 0 0 1-3.72V9.5l3-3V4.72A1.993 1.993 0 0 0 8 1zM2 4.2C1.34 4.2.8 3.65.8 3c0-.65.55-1.2 1.2-1.2.65 0 1.2.55 1.2 1.2 0 .65-.55 1.2-1.2 1.2zm3 10c-.66 0-1.2-.55-1.2-1.2 0-.65.55-1.2 1.2-1.2.65 0 1.2.55 1.2 1.2 0 .65-.55 1.2-1.2 1.2zm3-10c-.66 0-1.2-.55-1.2-1.2 0-.65.55-1.2 1.2-1.2.65 0 1.2.55 1.2 1.2 0 .65-.55 1.2-1.2 1.2z\"/></svg>\n",
       "            Fork\n",
       "          </a>\n",
       "\n",
       "          <div id=\"fork-destination-box\" style=\"display: none;\">\n",
       "            <h2 class=\"facebox-header\" data-facebox-id=\"facebox-header\">Where should we fork this repository?</h2>\n",
       "            <include-fragment src=\"\"\n",
       "                class=\"js-fork-select-fragment fork-select-fragment\"\n",
       "                data-url=\"/hzzyyy/Presentations/fork?fragment=1\">\n",
       "              <img alt=\"Loading\" height=\"64\" src=\"https://assets-cdn.github.com/images/spinners/octocat-spinner-128.gif\" width=\"64\" />\n",
       "            </include-fragment>\n",
       "          </div>\n",
       "\n",
       "    <a href=\"/hzzyyy/Presentations/network\" class=\"social-count\"\n",
       "       aria-label=\"0 users forked this repository\">\n",
       "      0\n",
       "    </a>\n",
       "  </li>\n",
       "</ul>\n",
       "\n",
       "        <h1 class=\"public \">\n",
       "  <svg aria-hidden=\"true\" class=\"octicon octicon-repo\" height=\"16\" version=\"1.1\" viewBox=\"0 0 12 16\" width=\"12\"><path fill-rule=\"evenodd\" d=\"M4 9H3V8h1v1zm0-3H3v1h1V6zm0-2H3v1h1V4zm0-2H3v1h1V2zm8-1v12c0 .55-.45 1-1 1H6v2l-1.5-1.5L3 16v-2H1c-.55 0-1-.45-1-1V1c0-.55.45-1 1-1h10c.55 0 1 .45 1 1zm-1 10H1v2h2v-1h3v1h5v-2zm0-10H2v9h9V1z\"/></svg>\n",
       "  <span class=\"author\" itemprop=\"author\"><a href=\"/hzzyyy\" class=\"url fn\" rel=\"author\">hzzyyy</a></span><!--\n",
       "--><span class=\"path-divider\">/</span><!--\n",
       "--><strong itemprop=\"name\"><a href=\"/hzzyyy/Presentations\" data-pjax=\"#js-repo-pjax-container\">Presentations</a></strong>\n",
       "\n",
       "</h1>\n",
       "\n",
       "      </div>\n",
       "      \n",
       "<nav class=\"reponav js-repo-nav js-sidenav-container-pjax container\"\n",
       "     itemscope\n",
       "     itemtype=\"http://schema.org/BreadcrumbList\"\n",
       "     role=\"navigation\"\n",
       "     data-pjax=\"#js-repo-pjax-container\">\n",
       "\n",
       "  <span itemscope itemtype=\"http://schema.org/ListItem\" itemprop=\"itemListElement\">\n",
       "    <a href=\"/hzzyyy/Presentations\" class=\"js-selected-navigation-item selected reponav-item\" data-hotkey=\"g c\" data-selected-links=\"repo_source repo_downloads repo_commits repo_releases repo_tags repo_branches repo_packages /hzzyyy/Presentations\" itemprop=\"url\">\n",
       "      <svg aria-hidden=\"true\" class=\"octicon octicon-code\" height=\"16\" version=\"1.1\" viewBox=\"0 0 14 16\" width=\"14\"><path fill-rule=\"evenodd\" d=\"M9.5 3L8 4.5 11.5 8 8 11.5 9.5 13 14 8 9.5 3zm-5 0L0 8l4.5 5L6 11.5 2.5 8 6 4.5 4.5 3z\"/></svg>\n",
       "      <span itemprop=\"name\">Code</span>\n",
       "      <meta itemprop=\"position\" content=\"1\">\n",
       "</a>  </span>\n",
       "\n",
       "    <span itemscope itemtype=\"http://schema.org/ListItem\" itemprop=\"itemListElement\">\n",
       "      <a href=\"/hzzyyy/Presentations/issues\" class=\"js-selected-navigation-item reponav-item\" data-hotkey=\"g i\" data-selected-links=\"repo_issues repo_labels repo_milestones /hzzyyy/Presentations/issues\" itemprop=\"url\">\n",
       "        <svg aria-hidden=\"true\" class=\"octicon octicon-issue-opened\" height=\"16\" version=\"1.1\" viewBox=\"0 0 14 16\" width=\"14\"><path fill-rule=\"evenodd\" d=\"M7 2.3c3.14 0 5.7 2.56 5.7 5.7s-2.56 5.7-5.7 5.7A5.71 5.71 0 0 1 1.3 8c0-3.14 2.56-5.7 5.7-5.7zM7 1C3.14 1 0 4.14 0 8s3.14 7 7 7 7-3.14 7-7-3.14-7-7-7zm1 3H6v5h2V4zm0 6H6v2h2v-2z\"/></svg>\n",
       "        <span itemprop=\"name\">Issues</span>\n",
       "        <span class=\"Counter\">0</span>\n",
       "        <meta itemprop=\"position\" content=\"2\">\n",
       "</a>    </span>\n",
       "\n",
       "  <span itemscope itemtype=\"http://schema.org/ListItem\" itemprop=\"itemListElement\">\n",
       "    <a href=\"/hzzyyy/Presentations/pulls\" class=\"js-selected-navigation-item reponav-item\" data-hotkey=\"g p\" data-selected-links=\"repo_pulls /hzzyyy/Presentations/pulls\" itemprop=\"url\">\n",
       "      <svg aria-hidden=\"true\" class=\"octicon octicon-git-pull-request\" height=\"16\" version=\"1.1\" viewBox=\"0 0 12 16\" width=\"12\"><path fill-rule=\"evenodd\" d=\"M11 11.28V5c-.03-.78-.34-1.47-.94-2.06C9.46 2.35 8.78 2.03 8 2H7V0L4 3l3 3V4h1c.27.02.48.11.69.31.21.2.3.42.31.69v6.28A1.993 1.993 0 0 0 10 15a1.993 1.993 0 0 0 1-3.72zm-1 2.92c-.66 0-1.2-.55-1.2-1.2 0-.65.55-1.2 1.2-1.2.65 0 1.2.55 1.2 1.2 0 .65-.55 1.2-1.2 1.2zM4 3c0-1.11-.89-2-2-2a1.993 1.993 0 0 0-1 3.72v6.56A1.993 1.993 0 0 0 2 15a1.993 1.993 0 0 0 1-3.72V4.72c.59-.34 1-.98 1-1.72zm-.8 10c0 .66-.55 1.2-1.2 1.2-.65 0-1.2-.55-1.2-1.2 0-.65.55-1.2 1.2-1.2.65 0 1.2.55 1.2 1.2zM2 4.2C1.34 4.2.8 3.65.8 3c0-.65.55-1.2 1.2-1.2.65 0 1.2.55 1.2 1.2 0 .65-.55 1.2-1.2 1.2z\"/></svg>\n",
       "      <span itemprop=\"name\">Pull requests</span>\n",
       "      <span class=\"Counter\">0</span>\n",
       "      <meta itemprop=\"position\" content=\"3\">\n",
       "</a>  </span>\n",
       "\n",
       "    <a href=\"/hzzyyy/Presentations/projects\" class=\"js-selected-navigation-item reponav-item\" data-hotkey=\"g b\" data-selected-links=\"repo_projects new_repo_project repo_project /hzzyyy/Presentations/projects\">\n",
       "      <svg aria-hidden=\"true\" class=\"octicon octicon-project\" height=\"16\" version=\"1.1\" viewBox=\"0 0 15 16\" width=\"15\"><path fill-rule=\"evenodd\" d=\"M10 12h3V2h-3v10zm-4-2h3V2H6v8zm-4 4h3V2H2v12zm-1 1h13V1H1v14zM14 0H1a1 1 0 0 0-1 1v14a1 1 0 0 0 1 1h13a1 1 0 0 0 1-1V1a1 1 0 0 0-1-1z\"/></svg>\n",
       "      Projects\n",
       "      <span class=\"Counter\" >0</span>\n",
       "</a>\n",
       "    <a href=\"/hzzyyy/Presentations/wiki\" class=\"js-selected-navigation-item reponav-item\" data-hotkey=\"g w\" data-selected-links=\"repo_wiki /hzzyyy/Presentations/wiki\">\n",
       "      <svg aria-hidden=\"true\" class=\"octicon octicon-book\" height=\"16\" version=\"1.1\" viewBox=\"0 0 16 16\" width=\"16\"><path fill-rule=\"evenodd\" d=\"M3 5h4v1H3V5zm0 3h4V7H3v1zm0 2h4V9H3v1zm11-5h-4v1h4V5zm0 2h-4v1h4V7zm0 2h-4v1h4V9zm2-6v9c0 .55-.45 1-1 1H9.5l-1 1-1-1H2c-.55 0-1-.45-1-1V3c0-.55.45-1 1-1h5.5l1 1 1-1H15c.55 0 1 .45 1 1zm-8 .5L7.5 3H2v9h6V3.5zm7-.5H9.5l-.5.5V12h6V3z\"/></svg>\n",
       "      Wiki\n",
       "</a>\n",
       "\n",
       "  <a href=\"/hzzyyy/Presentations/pulse\" class=\"js-selected-navigation-item reponav-item\" data-selected-links=\"repo_graphs repo_contributors dependency_graph pulse /hzzyyy/Presentations/pulse\">\n",
       "    <svg aria-hidden=\"true\" class=\"octicon octicon-graph\" height=\"16\" version=\"1.1\" viewBox=\"0 0 16 16\" width=\"16\"><path fill-rule=\"evenodd\" d=\"M16 14v1H0V0h1v14h15zM5 13H3V8h2v5zm4 0H7V3h2v10zm4 0h-2V6h2v7z\"/></svg>\n",
       "    Insights\n",
       "</a>\n",
       "\n",
       "</nav>\n",
       "\n",
       "\n",
       "    </div>\n",
       "\n",
       "<div class=\"container new-discussion-timeline experiment-repo-nav\">\n",
       "  <div class=\"repository-content\">\n",
       "\n",
       "    \n",
       "  <a href=\"/hzzyyy/Presentations/blob/5be9af4e0a3590c1c413cf8f651bf55318d7f597/slides.html\" class=\"d-none js-permalink-shortcut\" data-hotkey=\"y\">Permalink</a>\n",
       "\n",
       "  <!-- blob contrib key: blob_contributors:v21:7bf5a2f5c3fd42d268b62f794115e62d -->\n",
       "\n",
       "  <div class=\"file-navigation js-zeroclipboard-container\">\n",
       "    \n",
       "<div class=\"select-menu branch-select-menu js-menu-container js-select-menu float-left\">\n",
       "  <button class=\" btn btn-sm select-menu-button js-menu-target css-truncate\" data-hotkey=\"w\"\n",
       "    \n",
       "    type=\"button\" aria-label=\"Switch branches or tags\" aria-expanded=\"false\" aria-haspopup=\"true\">\n",
       "      <i>Branch:</i>\n",
       "      <span class=\"js-select-button css-truncate-target\">master</span>\n",
       "  </button>\n",
       "\n",
       "  <div class=\"select-menu-modal-holder js-menu-content js-navigation-container\" data-pjax>\n",
       "\n",
       "    <div class=\"select-menu-modal\">\n",
       "      <div class=\"select-menu-header\">\n",
       "        <svg aria-label=\"Close\" class=\"octicon octicon-x js-menu-close\" height=\"16\" role=\"img\" version=\"1.1\" viewBox=\"0 0 12 16\" width=\"12\"><path fill-rule=\"evenodd\" d=\"M7.48 8l3.75 3.75-1.48 1.48L6 9.48l-3.75 3.75-1.48-1.48L4.52 8 .77 4.25l1.48-1.48L6 6.52l3.75-3.75 1.48 1.48z\"/></svg>\n",
       "        <span class=\"select-menu-title\">Switch branches/tags</span>\n",
       "      </div>\n",
       "\n",
       "      <div class=\"select-menu-filters\">\n",
       "        <div class=\"select-menu-text-filter\">\n",
       "          <input type=\"text\" aria-label=\"Filter branches/tags\" id=\"context-commitish-filter-field\" class=\"form-control js-filterable-field js-navigation-enable\" placeholder=\"Filter branches/tags\">\n",
       "        </div>\n",
       "        <div class=\"select-menu-tabs\">\n",
       "          <ul>\n",
       "            <li class=\"select-menu-tab\">\n",
       "              <a href=\"#\" data-tab-filter=\"branches\" data-filter-placeholder=\"Filter branches/tags\" class=\"js-select-menu-tab\" role=\"tab\">Branches</a>\n",
       "            </li>\n",
       "            <li class=\"select-menu-tab\">\n",
       "              <a href=\"#\" data-tab-filter=\"tags\" data-filter-placeholder=\"Find a tag…\" class=\"js-select-menu-tab\" role=\"tab\">Tags</a>\n",
       "            </li>\n",
       "          </ul>\n",
       "        </div>\n",
       "      </div>\n",
       "\n",
       "      <div class=\"select-menu-list select-menu-tab-bucket js-select-menu-tab-bucket\" data-tab-filter=\"branches\" role=\"menu\">\n",
       "\n",
       "        <div data-filterable-for=\"context-commitish-filter-field\" data-filterable-type=\"substring\">\n",
       "\n",
       "\n",
       "            <a class=\"select-menu-item js-navigation-item js-navigation-open selected\"\n",
       "               href=\"/hzzyyy/Presentations/blob/master/slides.html\"\n",
       "               data-name=\"master\"\n",
       "               data-skip-pjax=\"true\"\n",
       "               rel=\"nofollow\">\n",
       "              <svg aria-hidden=\"true\" class=\"octicon octicon-check select-menu-item-icon\" height=\"16\" version=\"1.1\" viewBox=\"0 0 12 16\" width=\"12\"><path fill-rule=\"evenodd\" d=\"M12 5l-8 8-4-4 1.5-1.5L4 10l6.5-6.5z\"/></svg>\n",
       "              <span class=\"select-menu-item-text css-truncate-target js-select-menu-filter-text\">\n",
       "                master\n",
       "              </span>\n",
       "            </a>\n",
       "        </div>\n",
       "\n",
       "          <div class=\"select-menu-no-results\">Nothing to show</div>\n",
       "      </div>\n",
       "\n",
       "      <div class=\"select-menu-list select-menu-tab-bucket js-select-menu-tab-bucket\" data-tab-filter=\"tags\">\n",
       "        <div data-filterable-for=\"context-commitish-filter-field\" data-filterable-type=\"substring\">\n",
       "\n",
       "\n",
       "        </div>\n",
       "\n",
       "        <div class=\"select-menu-no-results\">Nothing to show</div>\n",
       "      </div>\n",
       "\n",
       "    </div>\n",
       "  </div>\n",
       "</div>\n",
       "\n",
       "    <div class=\"BtnGroup float-right\">\n",
       "      <a href=\"/hzzyyy/Presentations/find/master\"\n",
       "            class=\"js-pjax-capture-input btn btn-sm BtnGroup-item\"\n",
       "            data-pjax\n",
       "            data-hotkey=\"t\">\n",
       "        Find file\n",
       "      </a>\n",
       "      <button aria-label=\"Copy file path to clipboard\" class=\"js-zeroclipboard btn btn-sm BtnGroup-item tooltipped tooltipped-s\" data-copied-hint=\"Copied!\" type=\"button\">Copy path</button>\n",
       "    </div>\n",
       "    <div class=\"breadcrumb js-zeroclipboard-target\">\n",
       "      <span class=\"repo-root js-repo-root\"><span class=\"js-path-segment\"><a href=\"/hzzyyy/Presentations\"><span>Presentations</span></a></span></span><span class=\"separator\">/</span><strong class=\"final-path\">slides.html</strong>\n",
       "    </div>\n",
       "  </div>\n",
       "\n",
       "\n",
       "  <include-fragment class=\"commit-tease\" src=\"/hzzyyy/Presentations/contributors/master/slides.html\">\n",
       "    <div>\n",
       "      Fetching contributors&hellip;\n",
       "    </div>\n",
       "\n",
       "    <div class=\"commit-tease-contributors\">\n",
       "      <img alt=\"\" class=\"loader-loading float-left\" height=\"16\" src=\"https://assets-cdn.github.com/images/spinners/octocat-spinner-32-EAF2F5.gif\" width=\"16\" />\n",
       "      <span class=\"loader-error\">Cannot retrieve contributors at this time</span>\n",
       "    </div>\n",
       "</include-fragment>\n",
       "\n",
       "  <div class=\"file\">\n",
       "    <div class=\"file-header\">\n",
       "  <div class=\"file-actions\">\n",
       "\n",
       "    <div class=\"BtnGroup\">\n",
       "      <a href=\"/hzzyyy/Presentations/raw/master/slides.html\" class=\"btn btn-sm BtnGroup-item\" id=\"raw-url\">Raw</a>\n",
       "        <a href=\"/hzzyyy/Presentations/blame/master/slides.html\" class=\"btn btn-sm js-update-url-with-hash BtnGroup-item\" data-hotkey=\"b\">Blame</a>\n",
       "      <a href=\"/hzzyyy/Presentations/commits/master/slides.html\" class=\"btn btn-sm BtnGroup-item\" rel=\"nofollow\">History</a>\n",
       "    </div>\n",
       "\n",
       "        <a class=\"btn-octicon tooltipped tooltipped-nw\"\n",
       "           href=\"github-mac://openRepo/https://github.com/hzzyyy/Presentations?branch=master&amp;filepath=slides.html\"\n",
       "           aria-label=\"Open this file in GitHub Desktop\"\n",
       "           data-ga-click=\"Repository, open with desktop, type:mac\">\n",
       "            <svg aria-hidden=\"true\" class=\"octicon octicon-device-desktop\" height=\"16\" version=\"1.1\" viewBox=\"0 0 16 16\" width=\"16\"><path fill-rule=\"evenodd\" d=\"M15 2H1c-.55 0-1 .45-1 1v9c0 .55.45 1 1 1h5.34c-.25.61-.86 1.39-2.34 2h8c-1.48-.61-2.09-1.39-2.34-2H15c.55 0 1-.45 1-1V3c0-.55-.45-1-1-1zm0 9H1V3h14v8z\"/></svg>\n",
       "        </a>\n",
       "\n",
       "        <!-- '\"` --><!-- </textarea></xmp> --></option></form><form accept-charset=\"UTF-8\" action=\"/hzzyyy/Presentations/edit/master/slides.html\" class=\"inline-form js-update-url-with-hash\" method=\"post\"><div style=\"margin:0;padding:0;display:inline\"><input name=\"utf8\" type=\"hidden\" value=\"&#x2713;\" /><input name=\"authenticity_token\" type=\"hidden\" value=\"mqtZ7RPTZy6DEjWGgEcAmFOxYHnD8WmcoOjG7qdIBbUQu7+iFt8Zovh3B59CfvAxyfhExxqXFmCfWTNQnjFEbQ==\" /></div>\n",
       "          <button class=\"btn-octicon tooltipped tooltipped-nw\" type=\"submit\"\n",
       "            aria-label=\"Fork this project and edit the file\" data-hotkey=\"e\" data-disable-with>\n",
       "            <svg aria-hidden=\"true\" class=\"octicon octicon-pencil\" height=\"16\" version=\"1.1\" viewBox=\"0 0 14 16\" width=\"14\"><path fill-rule=\"evenodd\" d=\"M0 12v3h3l8-8-3-3-8 8zm3 2H1v-2h1v1h1v1zm10.3-9.3L12 6 9 3l1.3-1.3a.996.996 0 0 1 1.41 0l1.59 1.59c.39.39.39 1.02 0 1.41z\"/></svg>\n",
       "          </button>\n",
       "</form>        <!-- '\"` --><!-- </textarea></xmp> --></option></form><form accept-charset=\"UTF-8\" action=\"/hzzyyy/Presentations/delete/master/slides.html\" class=\"inline-form\" method=\"post\"><div style=\"margin:0;padding:0;display:inline\"><input name=\"utf8\" type=\"hidden\" value=\"&#x2713;\" /><input name=\"authenticity_token\" type=\"hidden\" value=\"r/3Tq76MvNKYSUFtLc7IIBrgUzxwUMrCeFUsMyhN4K+IQBP24ur8BmqgNmJDLKvur9nDXgXLo2zo9RJcJauxsA==\" /></div>\n",
       "          <button class=\"btn-octicon btn-octicon-danger tooltipped tooltipped-nw\" type=\"submit\"\n",
       "            aria-label=\"Fork this project and delete the file\" data-disable-with>\n",
       "            <svg aria-hidden=\"true\" class=\"octicon octicon-trashcan\" height=\"16\" version=\"1.1\" viewBox=\"0 0 12 16\" width=\"12\"><path fill-rule=\"evenodd\" d=\"M11 2H9c0-.55-.45-1-1-1H5c-.55 0-1 .45-1 1H2c-.55 0-1 .45-1 1v1c0 .55.45 1 1 1v9c0 .55.45 1 1 1h7c.55 0 1-.45 1-1V5c.55 0 1-.45 1-1V3c0-.55-.45-1-1-1zm-1 12H3V5h1v8h1V5h1v8h1V5h1v8h1V5h1v9zm1-10H2V3h9v1z\"/></svg>\n",
       "          </button>\n",
       "</form>  </div>\n",
       "\n",
       "  <div class=\"file-info\">\n",
       "      39 lines (34 sloc)\n",
       "      <span class=\"file-info-divider\"></span>\n",
       "    832 Bytes\n",
       "  </div>\n",
       "</div>\n",
       "\n",
       "    \n",
       "\n",
       "  <div itemprop=\"text\" class=\"blob-wrapper data type-html\">\n",
       "      <table class=\"highlight tab-size js-file-line-container\" data-tab-size=\"8\">\n",
       "      <tr>\n",
       "        <td id=\"L1\" class=\"blob-num js-line-number\" data-line-number=\"1\"></td>\n",
       "        <td id=\"LC1\" class=\"blob-code blob-code-inner js-file-line\"><span class=\"pl-c\"><span class=\"pl-c\">&lt;!--</span> enlarge the font size to suit slide show <span class=\"pl-c\">--&gt;</span></span></td>\n",
       "      </tr>\n",
       "      <tr>\n",
       "        <td id=\"L2\" class=\"blob-num js-line-number\" data-line-number=\"2\"></td>\n",
       "        <td id=\"LC2\" class=\"blob-code blob-code-inner js-file-line\">&lt;<span class=\"pl-ent\">style</span>&gt;<span class=\"pl-s1\"></span></td>\n",
       "      </tr>\n",
       "      <tr>\n",
       "        <td id=\"L3\" class=\"blob-num js-line-number\" data-line-number=\"3\"></td>\n",
       "        <td id=\"LC3\" class=\"blob-code blob-code-inner js-file-line\"><span class=\"pl-s1\">    <span class=\"pl-ent\">div</span><span class=\"pl-e\">.output_result</span> {</span></td>\n",
       "      </tr>\n",
       "      <tr>\n",
       "        <td id=\"L4\" class=\"blob-num js-line-number\" data-line-number=\"4\"></td>\n",
       "        <td id=\"LC4\" class=\"blob-code blob-code-inner js-file-line\"><span class=\"pl-s1\">    <span class=\"pl-c1\"><span class=\"pl-c1\">font-size</span></span>:<span class=\"pl-c1\">150<span class=\"pl-k\">%</span></span>;</span></td>\n",
       "      </tr>\n",
       "      <tr>\n",
       "        <td id=\"L5\" class=\"blob-num js-line-number\" data-line-number=\"5\"></td>\n",
       "        <td id=\"LC5\" class=\"blob-code blob-code-inner js-file-line\"><span class=\"pl-s1\">    <span class=\"pl-c1\"><span class=\"pl-c1\">line-height</span></span>:<span class=\"pl-c1\">150<span class=\"pl-k\">%</span></span>;</span></td>\n",
       "      </tr>\n",
       "      <tr>\n",
       "        <td id=\"L6\" class=\"blob-num js-line-number\" data-line-number=\"6\"></td>\n",
       "        <td id=\"LC6\" class=\"blob-code blob-code-inner js-file-line\"><span class=\"pl-s1\">    }</span></td>\n",
       "      </tr>\n",
       "      <tr>\n",
       "        <td id=\"L7\" class=\"blob-num js-line-number\" data-line-number=\"7\"></td>\n",
       "        <td id=\"LC7\" class=\"blob-code blob-code-inner js-file-line\"><span class=\"pl-s1\">    </span></td>\n",
       "      </tr>\n",
       "      <tr>\n",
       "        <td id=\"L8\" class=\"blob-num js-line-number\" data-line-number=\"8\"></td>\n",
       "        <td id=\"LC8\" class=\"blob-code blob-code-inner js-file-line\"><span class=\"pl-s1\">    <span class=\"pl-ent\">div</span><span class=\"pl-e\">.output_stdout</span> { </span></td>\n",
       "      </tr>\n",
       "      <tr>\n",
       "        <td id=\"L9\" class=\"blob-num js-line-number\" data-line-number=\"9\"></td>\n",
       "        <td id=\"LC9\" class=\"blob-code blob-code-inner js-file-line\"><span class=\"pl-s1\">    <span class=\"pl-c1\"><span class=\"pl-c1\">font-size</span></span>:<span class=\"pl-c1\">150<span class=\"pl-k\">%</span></span>;</span></td>\n",
       "      </tr>\n",
       "      <tr>\n",
       "        <td id=\"L10\" class=\"blob-num js-line-number\" data-line-number=\"10\"></td>\n",
       "        <td id=\"LC10\" class=\"blob-code blob-code-inner js-file-line\"><span class=\"pl-s1\">    <span class=\"pl-c1\"><span class=\"pl-c1\">line-height</span></span>:<span class=\"pl-c1\">150<span class=\"pl-k\">%</span></span>;</span></td>\n",
       "      </tr>\n",
       "      <tr>\n",
       "        <td id=\"L11\" class=\"blob-num js-line-number\" data-line-number=\"11\"></td>\n",
       "        <td id=\"LC11\" class=\"blob-code blob-code-inner js-file-line\"><span class=\"pl-s1\">    }</span></td>\n",
       "      </tr>\n",
       "      <tr>\n",
       "        <td id=\"L12\" class=\"blob-num js-line-number\" data-line-number=\"12\"></td>\n",
       "        <td id=\"LC12\" class=\"blob-code blob-code-inner js-file-line\"><span class=\"pl-s1\"></span></td>\n",
       "      </tr>\n",
       "      <tr>\n",
       "        <td id=\"L13\" class=\"blob-num js-line-number\" data-line-number=\"13\"></td>\n",
       "        <td id=\"LC13\" class=\"blob-code blob-code-inner js-file-line\"><span class=\"pl-s1\">    <span class=\"pl-ent\">div</span><span class=\"pl-e\">.prompt</span> { <span class=\"pl-c\"><span class=\"pl-c\">/*</span> hidden by the js block at the end <span class=\"pl-c\">*/</span></span></span></td>\n",
       "      </tr>\n",
       "      <tr>\n",
       "        <td id=\"L14\" class=\"blob-num js-line-number\" data-line-number=\"14\"></td>\n",
       "        <td id=\"LC14\" class=\"blob-code blob-code-inner js-file-line\"><span class=\"pl-s1\">    <span class=\"pl-c1\"><span class=\"pl-c1\">font-size</span></span>:<span class=\"pl-c1\">100<span class=\"pl-k\">%</span></span>;</span></td>\n",
       "      </tr>\n",
       "      <tr>\n",
       "        <td id=\"L15\" class=\"blob-num js-line-number\" data-line-number=\"15\"></td>\n",
       "        <td id=\"LC15\" class=\"blob-code blob-code-inner js-file-line\"><span class=\"pl-s1\">    <span class=\"pl-c1\"><span class=\"pl-c1\">line-height</span></span>:<span class=\"pl-c1\">100<span class=\"pl-k\">%</span></span>;</span></td>\n",
       "      </tr>\n",
       "      <tr>\n",
       "        <td id=\"L16\" class=\"blob-num js-line-number\" data-line-number=\"16\"></td>\n",
       "        <td id=\"LC16\" class=\"blob-code blob-code-inner js-file-line\"><span class=\"pl-s1\">    }</span></td>\n",
       "      </tr>\n",
       "      <tr>\n",
       "        <td id=\"L17\" class=\"blob-num js-line-number\" data-line-number=\"17\"></td>\n",
       "        <td id=\"LC17\" class=\"blob-code blob-code-inner js-file-line\"><span class=\"pl-s1\"></span></td>\n",
       "      </tr>\n",
       "      <tr>\n",
       "        <td id=\"L18\" class=\"blob-num js-line-number\" data-line-number=\"18\"></td>\n",
       "        <td id=\"LC18\" class=\"blob-code blob-code-inner js-file-line\"><span class=\"pl-s1\">    <span class=\"pl-ent\">div</span><span class=\"pl-e\">.CodeMirror</span> { <span class=\"pl-c\"><span class=\"pl-c\">/*</span> Code cell <span class=\"pl-c\">*/</span></span></span></td>\n",
       "      </tr>\n",
       "      <tr>\n",
       "        <td id=\"L19\" class=\"blob-num js-line-number\" data-line-number=\"19\"></td>\n",
       "        <td id=\"LC19\" class=\"blob-code blob-code-inner js-file-line\"><span class=\"pl-s1\">    <span class=\"pl-c1\"><span class=\"pl-c1\">font-size</span></span>:<span class=\"pl-c1\">150<span class=\"pl-k\">%</span></span>;</span></td>\n",
       "      </tr>\n",
       "      <tr>\n",
       "        <td id=\"L20\" class=\"blob-num js-line-number\" data-line-number=\"20\"></td>\n",
       "        <td id=\"LC20\" class=\"blob-code blob-code-inner js-file-line\"><span class=\"pl-s1\">    <span class=\"pl-c1\"><span class=\"pl-c1\">line-height</span></span>:<span class=\"pl-c1\">150<span class=\"pl-k\">%</span></span>;</span></td>\n",
       "      </tr>\n",
       "      <tr>\n",
       "        <td id=\"L21\" class=\"blob-num js-line-number\" data-line-number=\"21\"></td>\n",
       "        <td id=\"LC21\" class=\"blob-code blob-code-inner js-file-line\"><span class=\"pl-s1\">    }</span></td>\n",
       "      </tr>\n",
       "      <tr>\n",
       "        <td id=\"L22\" class=\"blob-num js-line-number\" data-line-number=\"22\"></td>\n",
       "        <td id=\"LC22\" class=\"blob-code blob-code-inner js-file-line\"><span class=\"pl-s1\">    </span></td>\n",
       "      </tr>\n",
       "      <tr>\n",
       "        <td id=\"L23\" class=\"blob-num js-line-number\" data-line-number=\"23\"></td>\n",
       "        <td id=\"LC23\" class=\"blob-code blob-code-inner js-file-line\"><span class=\"pl-s1\">    <span class=\"pl-ent\">div</span><span class=\"pl-e\">.text_cell_render</span> { <span class=\"pl-c\"><span class=\"pl-c\">/*</span> Markdown cell <span class=\"pl-c\">*/</span></span></span></td>\n",
       "      </tr>\n",
       "      <tr>\n",
       "        <td id=\"L24\" class=\"blob-num js-line-number\" data-line-number=\"24\"></td>\n",
       "        <td id=\"LC24\" class=\"blob-code blob-code-inner js-file-line\"><span class=\"pl-s1\">    <span class=\"pl-c1\"><span class=\"pl-c1\">font-family</span></span>: <span class=\"pl-s\"><span class=\"pl-pds\">&#39;</span>Times New Roman<span class=\"pl-pds\">&#39;</span></span>;</span></td>\n",
       "      </tr>\n",
       "      <tr>\n",
       "        <td id=\"L25\" class=\"blob-num js-line-number\" data-line-number=\"25\"></td>\n",
       "        <td id=\"LC25\" class=\"blob-code blob-code-inner js-file-line\"><span class=\"pl-s1\">    <span class=\"pl-c1\"><span class=\"pl-c1\">font-size</span></span>:<span class=\"pl-c1\">150<span class=\"pl-k\">%</span></span>;</span></td>\n",
       "      </tr>\n",
       "      <tr>\n",
       "        <td id=\"L26\" class=\"blob-num js-line-number\" data-line-number=\"26\"></td>\n",
       "        <td id=\"LC26\" class=\"blob-code blob-code-inner js-file-line\"><span class=\"pl-s1\">    <span class=\"pl-c1\"><span class=\"pl-c1\">line-height</span></span>:<span class=\"pl-c1\">150<span class=\"pl-k\">%</span></span>;</span></td>\n",
       "      </tr>\n",
       "      <tr>\n",
       "        <td id=\"L27\" class=\"blob-num js-line-number\" data-line-number=\"27\"></td>\n",
       "        <td id=\"LC27\" class=\"blob-code blob-code-inner js-file-line\"><span class=\"pl-s1\">    }</span></td>\n",
       "      </tr>\n",
       "      <tr>\n",
       "        <td id=\"L28\" class=\"blob-num js-line-number\" data-line-number=\"28\"></td>\n",
       "        <td id=\"LC28\" class=\"blob-code blob-code-inner js-file-line\"><span class=\"pl-s1\"></span><span class=\"pl-s1\">&lt;</span>/<span class=\"pl-ent\">style</span>&gt;</td>\n",
       "      </tr>\n",
       "      <tr>\n",
       "        <td id=\"L29\" class=\"blob-num js-line-number\" data-line-number=\"29\"></td>\n",
       "        <td id=\"LC29\" class=\"blob-code blob-code-inner js-file-line\">\n",
       "</td>\n",
       "      </tr>\n",
       "      <tr>\n",
       "        <td id=\"L30\" class=\"blob-num js-line-number\" data-line-number=\"30\"></td>\n",
       "        <td id=\"LC30\" class=\"blob-code blob-code-inner js-file-line\"><span class=\"pl-c\"><span class=\"pl-c\">&lt;!--</span> hide elements on the left to center the slides <span class=\"pl-c\">--&gt;</span></span></td>\n",
       "      </tr>\n",
       "      <tr>\n",
       "        <td id=\"L31\" class=\"blob-num js-line-number\" data-line-number=\"31\"></td>\n",
       "        <td id=\"LC31\" class=\"blob-code blob-code-inner js-file-line\">&lt;<span class=\"pl-ent\">script</span>&gt;<span class=\"pl-s1\"></span></td>\n",
       "      </tr>\n",
       "      <tr>\n",
       "        <td id=\"L32\" class=\"blob-num js-line-number\" data-line-number=\"32\"></td>\n",
       "        <td id=\"LC32\" class=\"blob-code blob-code-inner js-file-line\"><span class=\"pl-s1\">    <span class=\"pl-en\">$</span>(<span class=\"pl-c1\">document</span>).<span class=\"pl-en\">ready</span>(<span class=\"pl-k\">function</span>(){</span></td>\n",
       "      </tr>\n",
       "      <tr>\n",
       "        <td id=\"L33\" class=\"blob-num js-line-number\" data-line-number=\"33\"></td>\n",
       "        <td id=\"LC33\" class=\"blob-code blob-code-inner js-file-line\"><span class=\"pl-s1\">        <span class=\"pl-en\">$</span>(<span class=\"pl-s\"><span class=\"pl-pds\">&#39;</span>div.prompt<span class=\"pl-pds\">&#39;</span></span>).<span class=\"pl-en\">hide</span>();</span></td>\n",
       "      </tr>\n",
       "      <tr>\n",
       "        <td id=\"L34\" class=\"blob-num js-line-number\" data-line-number=\"34\"></td>\n",
       "        <td id=\"LC34\" class=\"blob-code blob-code-inner js-file-line\"><span class=\"pl-s1\">        <span class=\"pl-en\">$</span>(<span class=\"pl-s\"><span class=\"pl-pds\">&#39;</span>div.back-to-top<span class=\"pl-pds\">&#39;</span></span>).<span class=\"pl-en\">hide</span>();</span></td>\n",
       "      </tr>\n",
       "      <tr>\n",
       "        <td id=\"L35\" class=\"blob-num js-line-number\" data-line-number=\"35\"></td>\n",
       "        <td id=\"LC35\" class=\"blob-code blob-code-inner js-file-line\"><span class=\"pl-s1\">        <span class=\"pl-en\">$</span>(<span class=\"pl-s\"><span class=\"pl-pds\">&#39;</span>nav#menubar<span class=\"pl-pds\">&#39;</span></span>).<span class=\"pl-en\">hide</span>();</span></td>\n",
       "      </tr>\n",
       "      <tr>\n",
       "        <td id=\"L36\" class=\"blob-num js-line-number\" data-line-number=\"36\"></td>\n",
       "        <td id=\"LC36\" class=\"blob-code blob-code-inner js-file-line\"><span class=\"pl-s1\">        <span class=\"pl-en\">$</span>(<span class=\"pl-s\"><span class=\"pl-pds\">&#39;</span>.breadcrumb<span class=\"pl-pds\">&#39;</span></span>).<span class=\"pl-en\">hide</span>();</span></td>\n",
       "      </tr>\n",
       "      <tr>\n",
       "        <td id=\"L37\" class=\"blob-num js-line-number\" data-line-number=\"37\"></td>\n",
       "        <td id=\"LC37\" class=\"blob-code blob-code-inner js-file-line\"><span class=\"pl-s1\">        <span class=\"pl-en\">$</span>(<span class=\"pl-s\"><span class=\"pl-pds\">&#39;</span>.hidden-print<span class=\"pl-pds\">&#39;</span></span>).<span class=\"pl-en\">hide</span>();</span></td>\n",
       "      </tr>\n",
       "      <tr>\n",
       "        <td id=\"L38\" class=\"blob-num js-line-number\" data-line-number=\"38\"></td>\n",
       "        <td id=\"LC38\" class=\"blob-code blob-code-inner js-file-line\"><span class=\"pl-s1\">    });</span></td>\n",
       "      </tr>\n",
       "      <tr>\n",
       "        <td id=\"L39\" class=\"blob-num js-line-number\" data-line-number=\"39\"></td>\n",
       "        <td id=\"LC39\" class=\"blob-code blob-code-inner js-file-line\"><span class=\"pl-s1\"></span><span class=\"pl-s1\">&lt;</span>/<span class=\"pl-ent\">script</span>&gt;</td>\n",
       "      </tr>\n",
       "</table>\n",
       "\n",
       "  <div class=\"BlobToolbar position-absolute js-file-line-actions dropdown js-menu-container js-select-menu d-none\" aria-hidden=\"true\">\n",
       "    <button class=\"btn-octicon ml-0 px-2 p-0 bg-white border border-gray-dark rounded-1 dropdown-toggle js-menu-target\" id=\"js-file-line-action-button\" type=\"button\" aria-expanded=\"false\" aria-haspopup=\"true\" aria-label=\"Inline file action toolbar\" aria-controls=\"inline-file-actions\">\n",
       "      <svg aria-hidden=\"true\" class=\"octicon\" height=\"16\" version=\"1.1\" viewBox=\"0 0 13 4\" width=\"14\">\n",
       "        <g stroke=\"none\" stroke-width=\"1\" fill-rule=\"evenodd\">\n",
       "            <g transform=\"translate(-1.000000, -6.000000)\">\n",
       "                <path d=\"M2.5,9.5 C1.67157288,9.5 1,8.82842712 1,8 C1,7.17157288 1.67157288,6.5 2.5,6.5 C3.32842712,6.5 4,7.17157288 4,8 C4,8.82842712 3.32842712,9.5 2.5,9.5 Z M7.5,9.5 C6.67157288,9.5 6,8.82842712 6,8 C6,7.17157288 6.67157288,6.5 7.5,6.5 C8.32842712,6.5 9,7.17157288 9,8 C9,8.82842712 8.32842712,9.5 7.5,9.5 Z M12.5,9.5 C11.6715729,9.5 11,8.82842712 11,8 C11,7.17157288 11.6715729,6.5 12.5,6.5 C13.3284271,6.5 14,7.17157288 14,8 C14,8.82842712 13.3284271,9.5 12.5,9.5 Z\"></path>\n",
       "            </g>\n",
       "        </g>\n",
       "      </svg>\n",
       "    </button>\n",
       "    <div class=\"dropdown-menu-content js-menu-content\" id=\"inline-file-actions\">\n",
       "      <ul class=\"BlobToolbar-dropdown dropdown-menu dropdown-menu-se mt-2\">\n",
       "        <li><a class=\"js-zeroclipboard dropdown-item\" style=\"cursor:pointer;\" id=\"js-copy-lines\" data-original-text=\"Copy lines\">Copy lines</a></li>\n",
       "        <li><a class=\"js-zeroclipboard dropdown-item\" id= \"js-copy-permalink\" style=\"cursor:pointer;\" data-original-text=\"Copy permalink\">Copy permalink</a></li>\n",
       "        <li><a href=\"/hzzyyy/Presentations/blame/5be9af4e0a3590c1c413cf8f651bf55318d7f597/slides.html\" class=\"dropdown-item js-update-url-with-hash\" id=\"js-view-git-blame\">View git blame</a></li>\n",
       "          <li><a href=\"/hzzyyy/Presentations/issues/new\" class=\"dropdown-item\" id=\"js-new-issue\">Open new issue</a></li>\n",
       "      </ul>\n",
       "    </div>\n",
       "  </div>\n",
       "\n",
       "  </div>\n",
       "\n",
       "  </div>\n",
       "\n",
       "  <button type=\"button\" data-facebox=\"#jump-to-line\" data-facebox-class=\"linejump\" data-hotkey=\"l\" class=\"d-none\">Jump to Line</button>\n",
       "  <div id=\"jump-to-line\" style=\"display:none\">\n",
       "    <!-- '\"` --><!-- </textarea></xmp> --></option></form><form accept-charset=\"UTF-8\" action=\"\" class=\"js-jump-to-line-form\" method=\"get\"><div style=\"margin:0;padding:0;display:inline\"><input name=\"utf8\" type=\"hidden\" value=\"&#x2713;\" /></div>\n",
       "      <input class=\"form-control linejump-input js-jump-to-line-field\" type=\"text\" placeholder=\"Jump to line&hellip;\" aria-label=\"Jump to line\" autofocus>\n",
       "      <button type=\"submit\" class=\"btn\">Go</button>\n",
       "</form>  </div>\n",
       "\n",
       "  </div>\n",
       "  <div class=\"modal-backdrop js-touch-events\"></div>\n",
       "</div>\n",
       "\n",
       "    </div>\n",
       "  </div>\n",
       "\n",
       "  </div>\n",
       "\n",
       "      \n",
       "<div class=\"footer container-lg px-3\" role=\"contentinfo\">\n",
       "  <div class=\"position-relative d-flex flex-justify-between py-6 mt-6 f6 text-gray border-top border-gray-light \">\n",
       "    <ul class=\"list-style-none d-flex flex-wrap \">\n",
       "      <li class=\"mr-3\">&copy; 2017 <span title=\"0.19079s from unicorn-2311579650-znjtv\">GitHub</span>, Inc.</li>\n",
       "        <li class=\"mr-3\"><a href=\"https://github.com/site/terms\" data-ga-click=\"Footer, go to terms, text:terms\">Terms</a></li>\n",
       "        <li class=\"mr-3\"><a href=\"https://github.com/site/privacy\" data-ga-click=\"Footer, go to privacy, text:privacy\">Privacy</a></li>\n",
       "        <li class=\"mr-3\"><a href=\"https://github.com/security\" data-ga-click=\"Footer, go to security, text:security\">Security</a></li>\n",
       "        <li class=\"mr-3\"><a href=\"https://status.github.com/\" data-ga-click=\"Footer, go to status, text:status\">Status</a></li>\n",
       "        <li><a href=\"https://help.github.com\" data-ga-click=\"Footer, go to help, text:help\">Help</a></li>\n",
       "    </ul>\n",
       "\n",
       "    <a href=\"https://github.com\" aria-label=\"Homepage\" class=\"footer-octicon\" title=\"GitHub\">\n",
       "      <svg aria-hidden=\"true\" class=\"octicon octicon-mark-github\" height=\"24\" version=\"1.1\" viewBox=\"0 0 16 16\" width=\"24\"><path fill-rule=\"evenodd\" d=\"M8 0C3.58 0 0 3.58 0 8c0 3.54 2.29 6.53 5.47 7.59.4.07.55-.17.55-.38 0-.19-.01-.82-.01-1.49-2.01.37-2.53-.49-2.69-.94-.09-.23-.48-.94-.82-1.13-.28-.15-.68-.52-.01-.53.63-.01 1.08.58 1.23.82.72 1.21 1.87.87 2.33.66.07-.52.28-.87.51-1.07-1.78-.2-3.64-.89-3.64-3.95 0-.87.31-1.59.82-2.15-.08-.2-.36-1.02.08-2.12 0 0 .67-.21 2.2.82.64-.18 1.32-.27 2-.27.68 0 1.36.09 2 .27 1.53-1.04 2.2-.82 2.2-.82.44 1.1.16 1.92.08 2.12.51.56.82 1.27.82 2.15 0 3.07-1.87 3.75-3.65 3.95.29.25.54.73.54 1.48 0 1.07-.01 1.93-.01 2.2 0 .21.15.46.55.38A8.013 8.013 0 0 0 16 8c0-4.42-3.58-8-8-8z\"/></svg>\n",
       "</a>\n",
       "    <ul class=\"list-style-none d-flex flex-wrap \">\n",
       "        <li class=\"mr-3\"><a href=\"https://github.com/contact\" data-ga-click=\"Footer, go to contact, text:contact\">Contact GitHub</a></li>\n",
       "      <li class=\"mr-3\"><a href=\"https://developer.github.com\" data-ga-click=\"Footer, go to api, text:api\">API</a></li>\n",
       "      <li class=\"mr-3\"><a href=\"https://training.github.com\" data-ga-click=\"Footer, go to training, text:training\">Training</a></li>\n",
       "      <li class=\"mr-3\"><a href=\"https://shop.github.com\" data-ga-click=\"Footer, go to shop, text:shop\">Shop</a></li>\n",
       "        <li class=\"mr-3\"><a href=\"https://github.com/blog\" data-ga-click=\"Footer, go to blog, text:blog\">Blog</a></li>\n",
       "        <li><a href=\"https://github.com/about\" data-ga-click=\"Footer, go to about, text:about\">About</a></li>\n",
       "\n",
       "    </ul>\n",
       "  </div>\n",
       "</div>\n",
       "\n",
       "\n",
       "\n",
       "  <div id=\"ajax-error-message\" class=\"ajax-error-message flash flash-error\">\n",
       "    <svg aria-hidden=\"true\" class=\"octicon octicon-alert\" height=\"16\" version=\"1.1\" viewBox=\"0 0 16 16\" width=\"16\"><path fill-rule=\"evenodd\" d=\"M8.865 1.52c-.18-.31-.51-.5-.87-.5s-.69.19-.87.5L.275 13.5c-.18.31-.18.69 0 1 .19.31.52.5.87.5h13.7c.36 0 .69-.19.86-.5.17-.31.18-.69.01-1L8.865 1.52zM8.995 13h-2v-2h2v2zm0-3h-2V6h2v4z\"/></svg>\n",
       "    <button type=\"button\" class=\"flash-close js-flash-close js-ajax-error-dismiss\" aria-label=\"Dismiss error\">\n",
       "      <svg aria-hidden=\"true\" class=\"octicon octicon-x\" height=\"16\" version=\"1.1\" viewBox=\"0 0 12 16\" width=\"12\"><path fill-rule=\"evenodd\" d=\"M7.48 8l3.75 3.75-1.48 1.48L6 9.48l-3.75 3.75-1.48-1.48L4.52 8 .77 4.25l1.48-1.48L6 6.52l3.75-3.75 1.48 1.48z\"/></svg>\n",
       "    </button>\n",
       "    You can't perform that action at this time.\n",
       "  </div>\n",
       "\n",
       "\n",
       "    \n",
       "    <script crossorigin=\"anonymous\" integrity=\"sha256-sJHzBZ88v25J8LzXrcs+t58ejvuaV9TTXzzsRTXyuAo=\" src=\"https://assets-cdn.github.com/assets/frameworks-b091f3059f3cbf6e49f0bcd7adcb3eb79f1e8efb9a57d4d35f3cec4535f2b80a.js\"></script>\n",
       "    \n",
       "    <script async=\"async\" crossorigin=\"anonymous\" integrity=\"sha256-3l50HkG8xIS0Rt9FBzvdMiJ6hhJlvhUJGantgvOQj88=\" src=\"https://assets-cdn.github.com/assets/github-de5e741e41bcc484b446df45073bdd32227a861265be150919a9ed82f3908fcf.js\"></script>\n",
       "    \n",
       "    \n",
       "    \n",
       "    \n",
       "  <div class=\"js-stale-session-flash stale-session-flash flash flash-warn flash-banner d-none\">\n",
       "    <svg aria-hidden=\"true\" class=\"octicon octicon-alert\" height=\"16\" version=\"1.1\" viewBox=\"0 0 16 16\" width=\"16\"><path fill-rule=\"evenodd\" d=\"M8.865 1.52c-.18-.31-.51-.5-.87-.5s-.69.19-.87.5L.275 13.5c-.18.31-.18.69 0 1 .19.31.52.5.87.5h13.7c.36 0 .69-.19.86-.5.17-.31.18-.69.01-1L8.865 1.52zM8.995 13h-2v-2h2v2zm0-3h-2V6h2v4z\"/></svg>\n",
       "    <span class=\"signed-in-tab-flash\">You signed in with another tab or window. <a href=\"\">Reload</a> to refresh your session.</span>\n",
       "    <span class=\"signed-out-tab-flash\">You signed out in another tab or window. <a href=\"\">Reload</a> to refresh your session.</span>\n",
       "  </div>\n",
       "  <div class=\"facebox\" id=\"facebox\" style=\"display:none;\">\n",
       "  <div class=\"facebox-popup\">\n",
       "    <div class=\"facebox-content\" role=\"dialog\" aria-labelledby=\"facebox-header\" aria-describedby=\"facebox-description\">\n",
       "    </div>\n",
       "    <button type=\"button\" class=\"facebox-close js-facebox-close\" aria-label=\"Close modal\">\n",
       "      <svg aria-hidden=\"true\" class=\"octicon octicon-x\" height=\"16\" version=\"1.1\" viewBox=\"0 0 12 16\" width=\"12\"><path fill-rule=\"evenodd\" d=\"M7.48 8l3.75 3.75-1.48 1.48L6 9.48l-3.75 3.75-1.48-1.48L4.52 8 .77 4.25l1.48-1.48L6 6.52l3.75-3.75 1.48 1.48z\"/></svg>\n",
       "    </button>\n",
       "  </div>\n",
       "</div>\n",
       "\n",
       "\n",
       "  </body>\n",
       "</html>\n",
       "\n"
      ],
      "text/plain": [
       "<IPython.core.display.HTML object>"
      ]
     },
     "execution_count": 7,
     "metadata": {},
     "output_type": "execute_result"
    }
   ],
   "source": [
    "from IPython.core.display import HTML\n",
    "HTML(filename='./slides.html')"
   ]
  },
  {
   "cell_type": "code",
   "execution_count": null,
   "metadata": {
    "collapsed": true
   },
   "outputs": [],
   "source": []
  }
 ],
 "metadata": {
  "celltoolbar": "Slideshow",
  "kernelspec": {
   "display_name": "Python 3",
   "language": "python",
   "name": "python3"
  },
  "language_info": {
   "codemirror_mode": {
    "name": "ipython",
    "version": 3
   },
   "file_extension": ".py",
   "mimetype": "text/x-python",
   "name": "python",
   "nbconvert_exporter": "python",
   "pygments_lexer": "ipython3",
   "version": "3.6.1"
  }
 },
 "nbformat": 4,
 "nbformat_minor": 2
}
